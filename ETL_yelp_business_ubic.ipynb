{
 "cells": [
  {
   "cell_type": "code",
   "execution_count": 2,
   "metadata": {},
   "outputs": [],
   "source": [
    "import pandas as pd\n",
    "import os"
   ]
  },
  {
   "cell_type": "markdown",
   "metadata": {},
   "source": [
    "#### Procedimiento para hacer ETL con los datos de business de yelp con la cuidad y estado corregidos"
   ]
  },
  {
   "cell_type": "code",
   "execution_count": 33,
   "metadata": {},
   "outputs": [],
   "source": [
    "df_business = pd.read_parquet(\"D:/PROYECTO FINAL/Yelp/business2.parquet\")"
   ]
  },
  {
   "cell_type": "code",
   "execution_count": 13,
   "metadata": {},
   "outputs": [],
   "source": [
    "df_business['categories'] = df_business['categories'].str.split(',')\n",
    "df_business= df_business.dropna(subset=['categories']) # Elimina datos nulos de la columna"
   ]
  },
  {
   "cell_type": "code",
   "execution_count": 14,
   "metadata": {},
   "outputs": [
    {
     "name": "stdout",
     "output_type": "stream",
     "text": [
      "<class 'pandas.core.frame.DataFrame'>\n",
      "RangeIndex: 15276 entries, 0 to 15275\n",
      "Data columns (total 17 columns):\n",
      " #   Column         Non-Null Count  Dtype  \n",
      "---  ------         --------------  -----  \n",
      " 0   business_id    15276 non-null  object \n",
      " 1   name           15276 non-null  object \n",
      " 2   address        15190 non-null  object \n",
      " 3   city           15276 non-null  object \n",
      " 4   state          15276 non-null  object \n",
      " 5   postal_code    15272 non-null  object \n",
      " 6   latitude       15276 non-null  float64\n",
      " 7   longitude      15276 non-null  float64\n",
      " 8   stars          15276 non-null  float64\n",
      " 9   review_count   15276 non-null  int64  \n",
      " 10  is_open        15276 non-null  int64  \n",
      " 11  hours          12541 non-null  object \n",
      " 12  Es_Restaurant  15276 non-null  bool   \n",
      " 13  ciudad         15168 non-null  object \n",
      " 14  estado         15276 non-null  object \n",
      " 15  attributes     15101 non-null  object \n",
      " 16  categories     15276 non-null  object \n",
      "dtypes: bool(1), float64(3), int64(2), object(11)\n",
      "memory usage: 1.9+ MB\n"
     ]
    }
   ],
   "source": [
    "df_business.info()"
   ]
  },
  {
   "cell_type": "code",
   "execution_count": 15,
   "metadata": {},
   "outputs": [
    {
     "data": {
      "text/html": [
       "<div>\n",
       "<style scoped>\n",
       "    .dataframe tbody tr th:only-of-type {\n",
       "        vertical-align: middle;\n",
       "    }\n",
       "\n",
       "    .dataframe tbody tr th {\n",
       "        vertical-align: top;\n",
       "    }\n",
       "\n",
       "    .dataframe thead th {\n",
       "        text-align: right;\n",
       "    }\n",
       "</style>\n",
       "<table border=\"1\" class=\"dataframe\">\n",
       "  <thead>\n",
       "    <tr style=\"text-align: right;\">\n",
       "      <th></th>\n",
       "      <th>business_id</th>\n",
       "      <th>name</th>\n",
       "      <th>address</th>\n",
       "      <th>city</th>\n",
       "      <th>state</th>\n",
       "      <th>postal_code</th>\n",
       "      <th>latitude</th>\n",
       "      <th>longitude</th>\n",
       "      <th>stars</th>\n",
       "      <th>review_count</th>\n",
       "      <th>is_open</th>\n",
       "      <th>hours</th>\n",
       "      <th>Es_Restaurant</th>\n",
       "      <th>ciudad</th>\n",
       "      <th>estado</th>\n",
       "      <th>attributes</th>\n",
       "      <th>categories</th>\n",
       "    </tr>\n",
       "  </thead>\n",
       "  <tbody>\n",
       "    <tr>\n",
       "      <th>0</th>\n",
       "      <td>MTSW4McQd7CbVtyjqoe9mw</td>\n",
       "      <td>St Honore Pastries</td>\n",
       "      <td>935 Race St</td>\n",
       "      <td>Philadelphia</td>\n",
       "      <td>CA</td>\n",
       "      <td>19107</td>\n",
       "      <td>39.955505</td>\n",
       "      <td>-75.155564</td>\n",
       "      <td>4.0</td>\n",
       "      <td>80</td>\n",
       "      <td>1</td>\n",
       "      <td>{'Friday': '7:0-21:0', 'Monday': '7:0-20:0', '...</td>\n",
       "      <td>True</td>\n",
       "      <td>Philadelphia</td>\n",
       "      <td>Pennsylvania</td>\n",
       "      <td>{'AcceptsInsurance': None, 'AgesAllowed': None...</td>\n",
       "      <td>[Restaurants,  Food,  Bubble Tea,  Coffee &amp; Te...</td>\n",
       "    </tr>\n",
       "    <tr>\n",
       "      <th>1</th>\n",
       "      <td>9OG5YkX1g2GReZM0AskizA</td>\n",
       "      <td>Romano's Macaroni Grill</td>\n",
       "      <td>5505 S Virginia St</td>\n",
       "      <td>Reno</td>\n",
       "      <td>AB</td>\n",
       "      <td>89502</td>\n",
       "      <td>39.476117</td>\n",
       "      <td>-119.789339</td>\n",
       "      <td>2.5</td>\n",
       "      <td>339</td>\n",
       "      <td>1</td>\n",
       "      <td>{'Friday': '11:0-21:0', 'Monday': '11:0-22:0',...</td>\n",
       "      <td>True</td>\n",
       "      <td>Reno</td>\n",
       "      <td>Nevada</td>\n",
       "      <td>{'AcceptsInsurance': None, 'AgesAllowed': None...</td>\n",
       "      <td>[Restaurants,  Italian]</td>\n",
       "    </tr>\n",
       "    <tr>\n",
       "      <th>2</th>\n",
       "      <td>tMkwHmWFUEXrC9ZduonpTg</td>\n",
       "      <td>The Green Pheasant</td>\n",
       "      <td>215 1st Ave S</td>\n",
       "      <td>Nashville</td>\n",
       "      <td>TN</td>\n",
       "      <td>37201</td>\n",
       "      <td>36.159886</td>\n",
       "      <td>-86.773197</td>\n",
       "      <td>4.0</td>\n",
       "      <td>161</td>\n",
       "      <td>0</td>\n",
       "      <td>{'Friday': '16:0-23:0', 'Monday': None, 'Satur...</td>\n",
       "      <td>True</td>\n",
       "      <td>Nashville</td>\n",
       "      <td>Tennessee</td>\n",
       "      <td>{'AcceptsInsurance': None, 'AgesAllowed': None...</td>\n",
       "      <td>[Restaurants,  Japanese,  Seafood]</td>\n",
       "    </tr>\n",
       "  </tbody>\n",
       "</table>\n",
       "</div>"
      ],
      "text/plain": [
       "              business_id                     name             address  \\\n",
       "0  MTSW4McQd7CbVtyjqoe9mw       St Honore Pastries         935 Race St   \n",
       "1  9OG5YkX1g2GReZM0AskizA  Romano's Macaroni Grill  5505 S Virginia St   \n",
       "2  tMkwHmWFUEXrC9ZduonpTg       The Green Pheasant       215 1st Ave S   \n",
       "\n",
       "           city state postal_code   latitude   longitude  stars  review_count  \\\n",
       "0  Philadelphia    CA       19107  39.955505  -75.155564    4.0            80   \n",
       "1          Reno    AB       89502  39.476117 -119.789339    2.5           339   \n",
       "2     Nashville    TN       37201  36.159886  -86.773197    4.0           161   \n",
       "\n",
       "   is_open                                              hours  Es_Restaurant  \\\n",
       "0        1  {'Friday': '7:0-21:0', 'Monday': '7:0-20:0', '...           True   \n",
       "1        1  {'Friday': '11:0-21:0', 'Monday': '11:0-22:0',...           True   \n",
       "2        0  {'Friday': '16:0-23:0', 'Monday': None, 'Satur...           True   \n",
       "\n",
       "         ciudad        estado  \\\n",
       "0  Philadelphia  Pennsylvania   \n",
       "1          Reno        Nevada   \n",
       "2     Nashville     Tennessee   \n",
       "\n",
       "                                          attributes  \\\n",
       "0  {'AcceptsInsurance': None, 'AgesAllowed': None...   \n",
       "1  {'AcceptsInsurance': None, 'AgesAllowed': None...   \n",
       "2  {'AcceptsInsurance': None, 'AgesAllowed': None...   \n",
       "\n",
       "                                          categories  \n",
       "0  [Restaurants,  Food,  Bubble Tea,  Coffee & Te...  \n",
       "1                            [Restaurants,  Italian]  \n",
       "2                 [Restaurants,  Japanese,  Seafood]  "
      ]
     },
     "execution_count": 15,
     "metadata": {},
     "output_type": "execute_result"
    }
   ],
   "source": [
    "df_business.head(3)"
   ]
  },
  {
   "cell_type": "code",
   "execution_count": 16,
   "metadata": {},
   "outputs": [
    {
     "data": {
      "text/plain": [
       "(15276, 17)"
      ]
     },
     "execution_count": 16,
     "metadata": {},
     "output_type": "execute_result"
    }
   ],
   "source": [
    "df_business.shape"
   ]
  },
  {
   "cell_type": "code",
   "execution_count": 17,
   "metadata": {},
   "outputs": [],
   "source": [
    "df_business['estado']= df_business['estado'].str.strip()  # quita los espacios vacios"
   ]
  },
  {
   "cell_type": "code",
   "execution_count": 18,
   "metadata": {},
   "outputs": [],
   "source": [
    "lista_estados= ['Florida', 'Pennsylvania', 'Tennessee', 'California', 'Texas', 'New York']\n",
    "df_business= df_business[df_business['estado'].isin(lista_estados)]"
   ]
  },
  {
   "cell_type": "code",
   "execution_count": 19,
   "metadata": {},
   "outputs": [
    {
     "data": {
      "text/plain": [
       "(7879, 17)"
      ]
     },
     "execution_count": 19,
     "metadata": {},
     "output_type": "execute_result"
    }
   ],
   "source": [
    "df_business.shape"
   ]
  },
  {
   "cell_type": "code",
   "execution_count": 20,
   "metadata": {},
   "outputs": [
    {
     "data": {
      "text/plain": [
       "estado\n",
       "Pennsylvania    3823\n",
       "Florida         2509\n",
       "Tennessee       1181\n",
       "California       366\n",
       "Name: count, dtype: int64"
      ]
     },
     "execution_count": 20,
     "metadata": {},
     "output_type": "execute_result"
    }
   ],
   "source": [
    "df_business['estado'].value_counts()"
   ]
  },
  {
   "cell_type": "code",
   "execution_count": 21,
   "metadata": {},
   "outputs": [],
   "source": [
    "df_category= df_business[['business_id','categories']]\n",
    "df_category= df_category.explode('categories')\n",
    "df_category= df_category.dropna(subset=['categories']) # Elimina datos nulos de la columna\n",
    "df_category['categories']= df_category['categories'].str.strip()    # Elimina los espacios"
   ]
  },
  {
   "cell_type": "code",
   "execution_count": 22,
   "metadata": {},
   "outputs": [],
   "source": [
    "df_category= df_category.rename(columns={'categories': 'category_name'}) # cambiar nombre de las columnas\n",
    "df_category['platform']= 2"
   ]
  },
  {
   "cell_type": "code",
   "execution_count": 23,
   "metadata": {},
   "outputs": [
    {
     "data": {
      "text/html": [
       "<div>\n",
       "<style scoped>\n",
       "    .dataframe tbody tr th:only-of-type {\n",
       "        vertical-align: middle;\n",
       "    }\n",
       "\n",
       "    .dataframe tbody tr th {\n",
       "        vertical-align: top;\n",
       "    }\n",
       "\n",
       "    .dataframe thead th {\n",
       "        text-align: right;\n",
       "    }\n",
       "</style>\n",
       "<table border=\"1\" class=\"dataframe\">\n",
       "  <thead>\n",
       "    <tr style=\"text-align: right;\">\n",
       "      <th></th>\n",
       "      <th>business_id</th>\n",
       "      <th>category_name</th>\n",
       "    </tr>\n",
       "  </thead>\n",
       "  <tbody>\n",
       "    <tr>\n",
       "      <th>0</th>\n",
       "      <td>MTSW4McQd7CbVtyjqoe9mw</td>\n",
       "      <td>Restaurants</td>\n",
       "    </tr>\n",
       "    <tr>\n",
       "      <th>0</th>\n",
       "      <td>MTSW4McQd7CbVtyjqoe9mw</td>\n",
       "      <td>Food</td>\n",
       "    </tr>\n",
       "    <tr>\n",
       "      <th>0</th>\n",
       "      <td>MTSW4McQd7CbVtyjqoe9mw</td>\n",
       "      <td>Bubble Tea</td>\n",
       "    </tr>\n",
       "    <tr>\n",
       "      <th>0</th>\n",
       "      <td>MTSW4McQd7CbVtyjqoe9mw</td>\n",
       "      <td>Coffee &amp; Tea</td>\n",
       "    </tr>\n",
       "    <tr>\n",
       "      <th>0</th>\n",
       "      <td>MTSW4McQd7CbVtyjqoe9mw</td>\n",
       "      <td>Bakeries</td>\n",
       "    </tr>\n",
       "  </tbody>\n",
       "</table>\n",
       "</div>"
      ],
      "text/plain": [
       "              business_id category_name\n",
       "0  MTSW4McQd7CbVtyjqoe9mw   Restaurants\n",
       "0  MTSW4McQd7CbVtyjqoe9mw          Food\n",
       "0  MTSW4McQd7CbVtyjqoe9mw    Bubble Tea\n",
       "0  MTSW4McQd7CbVtyjqoe9mw  Coffee & Tea\n",
       "0  MTSW4McQd7CbVtyjqoe9mw      Bakeries"
      ]
     },
     "execution_count": 23,
     "metadata": {},
     "output_type": "execute_result"
    }
   ],
   "source": [
    "df_category.head(5)"
   ]
  },
  {
   "cell_type": "code",
   "execution_count": 24,
   "metadata": {},
   "outputs": [],
   "source": [
    "df_atributes= df_business[['business_id','attributes']]"
   ]
  },
  {
   "cell_type": "code",
   "execution_count": 25,
   "metadata": {},
   "outputs": [],
   "source": [
    "# Funcion para cargar los json a una serie de pandas\n",
    "def expandir_diccionario(diccionario):\n",
    "    return pd.Series(diccionario)"
   ]
  },
  {
   "cell_type": "code",
   "execution_count": 26,
   "metadata": {},
   "outputs": [],
   "source": [
    "# Se concatenas las series al df original\n",
    "df_expandido = pd.concat([df_atributes, df_atributes['attributes'].apply(expandir_diccionario)], axis=1)\n",
    "df_expandido.drop('attributes', axis=1, inplace=True)     # Se elimina la columna de MISC\n",
    "df_atributes= df_expandido"
   ]
  },
  {
   "cell_type": "code",
   "execution_count": 27,
   "metadata": {},
   "outputs": [],
   "source": [
    "df_atributes = df_atributes[['business_id','RestaurantsDelivery','OutdoorSeating','BusinessAcceptsCreditCards','GoodForKids',\n",
    "                             'RestaurantsPriceRange2','RestaurantsTakeOut','RestaurantsReservations','HasTV']]"
   ]
  },
  {
   "cell_type": "code",
   "execution_count": 28,
   "metadata": {},
   "outputs": [],
   "source": [
    "df_atributes= df_atributes.fillna('None')     # Se imputan los valores nulos a 'None'"
   ]
  },
  {
   "cell_type": "code",
   "execution_count": 29,
   "metadata": {},
   "outputs": [
    {
     "name": "stdout",
     "output_type": "stream",
     "text": [
      "<class 'pandas.core.frame.DataFrame'>\n",
      "Index: 7879 entries, 0 to 15275\n",
      "Data columns (total 9 columns):\n",
      " #   Column                      Non-Null Count  Dtype \n",
      "---  ------                      --------------  ----- \n",
      " 0   business_id                 7879 non-null   object\n",
      " 1   RestaurantsDelivery         7879 non-null   object\n",
      " 2   OutdoorSeating              7879 non-null   object\n",
      " 3   BusinessAcceptsCreditCards  7879 non-null   object\n",
      " 4   GoodForKids                 7879 non-null   object\n",
      " 5   RestaurantsPriceRange2      7879 non-null   object\n",
      " 6   RestaurantsTakeOut          7879 non-null   object\n",
      " 7   RestaurantsReservations     7879 non-null   object\n",
      " 8   HasTV                       7879 non-null   object\n",
      "dtypes: object(9)\n",
      "memory usage: 615.5+ KB\n"
     ]
    }
   ],
   "source": [
    "df_atributes.info()"
   ]
  },
  {
   "cell_type": "code",
   "execution_count": 30,
   "metadata": {},
   "outputs": [
    {
     "data": {
      "text/html": [
       "<div>\n",
       "<style scoped>\n",
       "    .dataframe tbody tr th:only-of-type {\n",
       "        vertical-align: middle;\n",
       "    }\n",
       "\n",
       "    .dataframe tbody tr th {\n",
       "        vertical-align: top;\n",
       "    }\n",
       "\n",
       "    .dataframe thead th {\n",
       "        text-align: right;\n",
       "    }\n",
       "</style>\n",
       "<table border=\"1\" class=\"dataframe\">\n",
       "  <thead>\n",
       "    <tr style=\"text-align: right;\">\n",
       "      <th></th>\n",
       "      <th>business_id</th>\n",
       "      <th>RestaurantsDelivery</th>\n",
       "      <th>OutdoorSeating</th>\n",
       "      <th>BusinessAcceptsCreditCards</th>\n",
       "      <th>GoodForKids</th>\n",
       "      <th>RestaurantsPriceRange2</th>\n",
       "      <th>RestaurantsTakeOut</th>\n",
       "      <th>RestaurantsReservations</th>\n",
       "      <th>HasTV</th>\n",
       "    </tr>\n",
       "  </thead>\n",
       "  <tbody>\n",
       "    <tr>\n",
       "      <th>0</th>\n",
       "      <td>MTSW4McQd7CbVtyjqoe9mw</td>\n",
       "      <td>False</td>\n",
       "      <td>False</td>\n",
       "      <td>False</td>\n",
       "      <td>None</td>\n",
       "      <td>1</td>\n",
       "      <td>True</td>\n",
       "      <td>None</td>\n",
       "      <td>None</td>\n",
       "    </tr>\n",
       "    <tr>\n",
       "      <th>2</th>\n",
       "      <td>tMkwHmWFUEXrC9ZduonpTg</td>\n",
       "      <td>None</td>\n",
       "      <td>False</td>\n",
       "      <td>True</td>\n",
       "      <td>False</td>\n",
       "      <td>None</td>\n",
       "      <td>None</td>\n",
       "      <td>True</td>\n",
       "      <td>False</td>\n",
       "    </tr>\n",
       "    <tr>\n",
       "      <th>3</th>\n",
       "      <td>2xVsWBNFwZOxIOdd9Mwnww</td>\n",
       "      <td>False</td>\n",
       "      <td>True</td>\n",
       "      <td>True</td>\n",
       "      <td>True</td>\n",
       "      <td>2</td>\n",
       "      <td>True</td>\n",
       "      <td>None</td>\n",
       "      <td>True</td>\n",
       "    </tr>\n",
       "    <tr>\n",
       "      <th>6</th>\n",
       "      <td>ABxoFuzZy5mqQ8C5FJJajQ</td>\n",
       "      <td>None</td>\n",
       "      <td>None</td>\n",
       "      <td>None</td>\n",
       "      <td>None</td>\n",
       "      <td>None</td>\n",
       "      <td>None</td>\n",
       "      <td>None</td>\n",
       "      <td>None</td>\n",
       "    </tr>\n",
       "    <tr>\n",
       "      <th>7</th>\n",
       "      <td>uI9XODGY_2_ieTE6xJ0myw</td>\n",
       "      <td>False</td>\n",
       "      <td>True</td>\n",
       "      <td>True</td>\n",
       "      <td>True</td>\n",
       "      <td>2</td>\n",
       "      <td>True</td>\n",
       "      <td>True</td>\n",
       "      <td>True</td>\n",
       "    </tr>\n",
       "  </tbody>\n",
       "</table>\n",
       "</div>"
      ],
      "text/plain": [
       "              business_id RestaurantsDelivery OutdoorSeating  \\\n",
       "0  MTSW4McQd7CbVtyjqoe9mw               False          False   \n",
       "2  tMkwHmWFUEXrC9ZduonpTg                None          False   \n",
       "3  2xVsWBNFwZOxIOdd9Mwnww               False           True   \n",
       "6  ABxoFuzZy5mqQ8C5FJJajQ                None           None   \n",
       "7  uI9XODGY_2_ieTE6xJ0myw               False           True   \n",
       "\n",
       "  BusinessAcceptsCreditCards GoodForKids RestaurantsPriceRange2  \\\n",
       "0                      False        None                      1   \n",
       "2                       True       False                   None   \n",
       "3                       True        True                      2   \n",
       "6                       None        None                   None   \n",
       "7                       True        True                      2   \n",
       "\n",
       "  RestaurantsTakeOut RestaurantsReservations  HasTV  \n",
       "0               True                    None   None  \n",
       "2               None                    True  False  \n",
       "3               True                    None   True  \n",
       "6               None                    None   None  \n",
       "7               True                    True   True  "
      ]
     },
     "execution_count": 30,
     "metadata": {},
     "output_type": "execute_result"
    }
   ],
   "source": [
    "df_atributes.head()"
   ]
  },
  {
   "cell_type": "code",
   "execution_count": 31,
   "metadata": {},
   "outputs": [],
   "source": [
    "#Borrar Columnas\n",
    "df_business= df_business.drop(['address','postal_code', 'review_count', 'is_open', 'attributes','categories', 'hours','state','city'], axis=1)\n",
    "df_business= df_business[['business_id','name', 'ciudad', 'estado', 'latitude', 'longitude', 'stars']]\n",
    "df_business= df_business.rename(columns={'ciudad': 'city','estado': 'state'}) # cambiar nombre de las columnas\n",
    "df_business['price'] = \"SIN DATO\"\n",
    "df_business['platform'] = 2\n",
    "df_business = df_business.reset_index(drop=True)"
   ]
  },
  {
   "cell_type": "code",
   "execution_count": 32,
   "metadata": {},
   "outputs": [
    {
     "data": {
      "text/html": [
       "<div>\n",
       "<style scoped>\n",
       "    .dataframe tbody tr th:only-of-type {\n",
       "        vertical-align: middle;\n",
       "    }\n",
       "\n",
       "    .dataframe tbody tr th {\n",
       "        vertical-align: top;\n",
       "    }\n",
       "\n",
       "    .dataframe thead th {\n",
       "        text-align: right;\n",
       "    }\n",
       "</style>\n",
       "<table border=\"1\" class=\"dataframe\">\n",
       "  <thead>\n",
       "    <tr style=\"text-align: right;\">\n",
       "      <th></th>\n",
       "      <th>business_id</th>\n",
       "      <th>name</th>\n",
       "      <th>city</th>\n",
       "      <th>state</th>\n",
       "      <th>latitude</th>\n",
       "      <th>longitude</th>\n",
       "      <th>stars</th>\n",
       "      <th>price</th>\n",
       "      <th>platform</th>\n",
       "    </tr>\n",
       "  </thead>\n",
       "  <tbody>\n",
       "    <tr>\n",
       "      <th>0</th>\n",
       "      <td>MTSW4McQd7CbVtyjqoe9mw</td>\n",
       "      <td>St Honore Pastries</td>\n",
       "      <td>Philadelphia</td>\n",
       "      <td>Pennsylvania</td>\n",
       "      <td>39.955505</td>\n",
       "      <td>-75.155564</td>\n",
       "      <td>4.0</td>\n",
       "      <td>SIN DATO</td>\n",
       "      <td>2</td>\n",
       "    </tr>\n",
       "    <tr>\n",
       "      <th>1</th>\n",
       "      <td>tMkwHmWFUEXrC9ZduonpTg</td>\n",
       "      <td>The Green Pheasant</td>\n",
       "      <td>Nashville</td>\n",
       "      <td>Tennessee</td>\n",
       "      <td>36.159886</td>\n",
       "      <td>-86.773197</td>\n",
       "      <td>4.0</td>\n",
       "      <td>SIN DATO</td>\n",
       "      <td>2</td>\n",
       "    </tr>\n",
       "    <tr>\n",
       "      <th>2</th>\n",
       "      <td>2xVsWBNFwZOxIOdd9Mwnww</td>\n",
       "      <td>Cheeseburger In Paradise</td>\n",
       "      <td>Exton</td>\n",
       "      <td>Pennsylvania</td>\n",
       "      <td>40.029962</td>\n",
       "      <td>-75.630607</td>\n",
       "      <td>2.5</td>\n",
       "      <td>SIN DATO</td>\n",
       "      <td>2</td>\n",
       "    </tr>\n",
       "  </tbody>\n",
       "</table>\n",
       "</div>"
      ],
      "text/plain": [
       "              business_id                      name          city  \\\n",
       "0  MTSW4McQd7CbVtyjqoe9mw        St Honore Pastries  Philadelphia   \n",
       "1  tMkwHmWFUEXrC9ZduonpTg        The Green Pheasant     Nashville   \n",
       "2  2xVsWBNFwZOxIOdd9Mwnww  Cheeseburger In Paradise         Exton   \n",
       "\n",
       "          state   latitude  longitude  stars     price  platform  \n",
       "0  Pennsylvania  39.955505 -75.155564    4.0  SIN DATO         2  \n",
       "1     Tennessee  36.159886 -86.773197    4.0  SIN DATO         2  \n",
       "2  Pennsylvania  40.029962 -75.630607    2.5  SIN DATO         2  "
      ]
     },
     "execution_count": 32,
     "metadata": {},
     "output_type": "execute_result"
    }
   ],
   "source": [
    "df_business.head(3)"
   ]
  },
  {
   "cell_type": "markdown",
   "metadata": {},
   "source": [
    "##### Procedimiento para dividir un archivo .Json muy grande para ser procesado por partes por limites de memoria "
   ]
  },
  {
   "cell_type": "code",
   "execution_count": null,
   "metadata": {},
   "outputs": [],
   "source": [
    "def dividir_json_grande(archivo_entrada, num_partes):\n",
    "    # Contar el número total de líneas/objetos en el archivo JSON\n",
    "    with open(archivo_entrada, 'r', encoding='utf-8') as archivo:\n",
    "        total_lineas = sum(1 for _ in archivo)\n",
    "    \n",
    "    # Calcular el tamaño de cada parte\n",
    "    tamaño_parte = total_lineas // num_partes\n",
    "    if total_lineas % num_partes != 0:\n",
    "        tamaño_parte += 1\n",
    "\n",
    "    # Leer y dividir el archivo en partes\n",
    "    with open(archivo_entrada, 'r', encoding='utf-8') as archivo:\n",
    "        for i in range(num_partes):\n",
    "            archivo_salida = f'parte_{i + 1}.json'\n",
    "            with open(archivo_salida, 'w', encoding='utf-8') as salida:\n",
    "                salida.write('[')  # Comenzar un array JSON\n",
    "                for j in range(tamaño_parte):\n",
    "                    linea = archivo.readline()\n",
    "                    if not linea:\n",
    "                        break\n",
    "                    salida.write(linea.rstrip())\n",
    "                    if j < tamaño_parte - 1 and not archivo.tell() == total_lineas:\n",
    "                        salida.write(',')\n",
    "                salida.write(']')  # Terminar el array JSON\n",
    "            # Si el archivo original ha terminado, salir del bucle\n",
    "            if not linea:\n",
    "                break\n",
    "\n",
    "# Usar la función para dividir el archivo 'archivo.json' en 10 partes\n",
    "dividir_json_grande('D:/PROYECTO FINAL/Yelp/review.json', 20)"
   ]
  }
 ],
 "metadata": {
  "kernelspec": {
   "display_name": "Python 3",
   "language": "python",
   "name": "python3"
  },
  "language_info": {
   "codemirror_mode": {
    "name": "ipython",
    "version": 3
   },
   "file_extension": ".py",
   "mimetype": "text/x-python",
   "name": "python",
   "nbconvert_exporter": "python",
   "pygments_lexer": "ipython3",
   "version": "3.11.1"
  }
 },
 "nbformat": 4,
 "nbformat_minor": 2
}
