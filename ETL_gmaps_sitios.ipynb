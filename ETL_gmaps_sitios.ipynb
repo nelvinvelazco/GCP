{
 "cells": [
  {
   "cell_type": "code",
   "execution_count": 1,
   "metadata": {},
   "outputs": [],
   "source": [
    "import pandas as pd\n",
    "import os "
   ]
  },
  {
   "cell_type": "code",
   "execution_count": 21,
   "metadata": {},
   "outputs": [],
   "source": [
    "ruta_archivos = \"D:/PROYECTO FINAL/Google Maps/metadata-sitios/\"     # Ruta de los json de Sitios\n",
    "archivos_json = [[os.path.join(ruta_archivos, archivo), archivo] for archivo in os.listdir(ruta_archivos) if archivo.endswith('.json')]"
   ]
  },
  {
   "cell_type": "code",
   "execution_count": 3,
   "metadata": {},
   "outputs": [
    {
     "data": {
      "text/plain": [
       "[['D:/PROYECTO FINAL/Google Maps/metadata-sitios/1.json', '1.json'],\n",
       " ['D:/PROYECTO FINAL/Google Maps/metadata-sitios/2.json', '2.json']]"
      ]
     },
     "execution_count": 3,
     "metadata": {},
     "output_type": "execute_result"
    }
   ],
   "source": [
    "archivos_json"
   ]
  },
  {
   "cell_type": "code",
   "execution_count": 79,
   "metadata": {},
   "outputs": [],
   "source": [
    "#df_estados_USA= pd.read_csv(\"D:/PROYECTO FINAL/Google Maps/estados_usa.csv\",delimiter = ';', encoding = \"utf-8\")\n",
    "df_estados_USA= pd.read_csv(\"C:/Data/GMaps/estados_usa.csv\",delimiter = ';', encoding = \"utf-8\")"
   ]
  },
  {
   "cell_type": "code",
   "execution_count": 80,
   "metadata": {},
   "outputs": [],
   "source": [
    "#df_sitios= pd.read_json('D:/PROYECTO FINAL/Google Maps/metadata-sitios/1.json', lines=True)\n",
    "df_sitios= pd.read_json('C:/Data/GMaps/sitios/1.json', lines=True)"
   ]
  },
  {
   "cell_type": "code",
   "execution_count": 81,
   "metadata": {},
   "outputs": [
    {
     "data": {
      "text/plain": [
       "(275001, 15)"
      ]
     },
     "execution_count": 81,
     "metadata": {},
     "output_type": "execute_result"
    }
   ],
   "source": [
    "df_sitios.shape"
   ]
  },
  {
   "cell_type": "code",
   "execution_count": 82,
   "metadata": {},
   "outputs": [],
   "source": [
    "df_sitios.drop_duplicates('gmap_id',inplace=True)"
   ]
  },
  {
   "cell_type": "code",
   "execution_count": 83,
   "metadata": {},
   "outputs": [
    {
     "data": {
      "text/plain": [
       "(248428, 15)"
      ]
     },
     "execution_count": 83,
     "metadata": {},
     "output_type": "execute_result"
    }
   ],
   "source": [
    "df_sitios.shape"
   ]
  },
  {
   "cell_type": "code",
   "execution_count": 84,
   "metadata": {},
   "outputs": [],
   "source": [
    "df_sitios= df_sitios.dropna(subset=['address']) # Elimina filas con address nulas\n",
    "df_sitios= df_sitios.dropna(subset=['category']) # Elimina filas con category nulas"
   ]
  },
  {
   "cell_type": "code",
   "execution_count": 87,
   "metadata": {},
   "outputs": [
    {
     "data": {
      "text/plain": [
       "(237332, 15)"
      ]
     },
     "execution_count": 87,
     "metadata": {},
     "output_type": "execute_result"
    }
   ],
   "source": [
    "df_sitios.shape"
   ]
  },
  {
   "cell_type": "code",
   "execution_count": 88,
   "metadata": {},
   "outputs": [],
   "source": [
    "df_sitios['Es_Restaurant'] = df_sitios['category'].apply(lambda x: 'Restaurant' in x)"
   ]
  },
  {
   "cell_type": "code",
   "execution_count": 89,
   "metadata": {},
   "outputs": [],
   "source": [
    "df_sitios= df_sitios[df_sitios['Es_Restaurant']]"
   ]
  },
  {
   "cell_type": "code",
   "execution_count": 90,
   "metadata": {},
   "outputs": [
    {
     "name": "stdout",
     "output_type": "stream",
     "text": [
      "<class 'pandas.core.frame.DataFrame'>\n",
      "Index: 4867 entries, 6 to 274962\n",
      "Data columns (total 16 columns):\n",
      " #   Column            Non-Null Count  Dtype  \n",
      "---  ------            --------------  -----  \n",
      " 0   name              4867 non-null   object \n",
      " 1   address           4867 non-null   object \n",
      " 2   gmap_id           4867 non-null   object \n",
      " 3   description       1089 non-null   object \n",
      " 4   latitude          4867 non-null   float64\n",
      " 5   longitude         4867 non-null   float64\n",
      " 6   category          4867 non-null   object \n",
      " 7   avg_rating        4867 non-null   float64\n",
      " 8   num_of_reviews    4867 non-null   int64  \n",
      " 9   price             1329 non-null   object \n",
      " 10  hours             3909 non-null   object \n",
      " 11  MISC              4837 non-null   object \n",
      " 12  state             3947 non-null   object \n",
      " 13  relative_results  3107 non-null   object \n",
      " 14  url               4867 non-null   object \n",
      " 15  Es_Restaurant     4867 non-null   bool   \n",
      "dtypes: bool(1), float64(3), int64(1), object(11)\n",
      "memory usage: 613.1+ KB\n"
     ]
    }
   ],
   "source": [
    "df_sitios.info()"
   ]
  },
  {
   "cell_type": "code",
   "execution_count": 91,
   "metadata": {},
   "outputs": [],
   "source": [
    "df_sitios= df_sitios.fillna({'price':'SIN DATO', 'state':'SIN DATO'})     # Se imputan los valores nulos a 'SIN DATO'"
   ]
  },
  {
   "cell_type": "code",
   "execution_count": 92,
   "metadata": {},
   "outputs": [],
   "source": [
    "# En pruebas se detecto que esta fila estaba dando problemas con la funcion para extraer, asi que se procede a eliminarla\n",
    "df_sitios= df_sitios[df_sitios['address'] != \"〒10028 New York, Lexington Ave, (New) Ichie Japanese Restaurant\"]"
   ]
  },
  {
   "cell_type": "code",
   "execution_count": 93,
   "metadata": {},
   "outputs": [],
   "source": [
    "def Ext_Ciudad_Estado(dir):\n",
    "    ciudad= \"SIN DATO\"\n",
    "    estado= \"SIN DATO\"     \n",
    "    if len(str(dir)) > 10:  \n",
    "        lista= str(dir).split(',')\n",
    "        if len(lista) > 2:\n",
    "            codigo= lista[-1][1:3]\n",
    "            df_filtro= df_estados_USA[df_estados_USA['nombre_corto'].str.contains(codigo)]        \n",
    "            if not df_filtro.empty:            \n",
    "                ciudad = lista[-2].strip()\n",
    "                estado= df_filtro.nombre_largo.values[0].strip()\n",
    "    return ciudad, estado"
   ]
  },
  {
   "cell_type": "code",
   "execution_count": 94,
   "metadata": {},
   "outputs": [],
   "source": [
    "df_sitios[['city','state']] = df_sitios.apply(lambda x: Ext_Ciudad_Estado(x['address']), axis=1, result_type='expand')"
   ]
  },
  {
   "cell_type": "code",
   "execution_count": 95,
   "metadata": {},
   "outputs": [
    {
     "data": {
      "text/html": [
       "<div>\n",
       "<style scoped>\n",
       "    .dataframe tbody tr th:only-of-type {\n",
       "        vertical-align: middle;\n",
       "    }\n",
       "\n",
       "    .dataframe tbody tr th {\n",
       "        vertical-align: top;\n",
       "    }\n",
       "\n",
       "    .dataframe thead th {\n",
       "        text-align: right;\n",
       "    }\n",
       "</style>\n",
       "<table border=\"1\" class=\"dataframe\">\n",
       "  <thead>\n",
       "    <tr style=\"text-align: right;\">\n",
       "      <th></th>\n",
       "      <th>name</th>\n",
       "      <th>address</th>\n",
       "      <th>gmap_id</th>\n",
       "      <th>description</th>\n",
       "      <th>latitude</th>\n",
       "      <th>longitude</th>\n",
       "      <th>category</th>\n",
       "      <th>avg_rating</th>\n",
       "      <th>num_of_reviews</th>\n",
       "      <th>price</th>\n",
       "      <th>hours</th>\n",
       "      <th>MISC</th>\n",
       "      <th>state</th>\n",
       "      <th>relative_results</th>\n",
       "      <th>url</th>\n",
       "      <th>Es_Restaurant</th>\n",
       "      <th>city</th>\n",
       "    </tr>\n",
       "  </thead>\n",
       "  <tbody>\n",
       "    <tr>\n",
       "      <th>6</th>\n",
       "      <td>Vons Chicken</td>\n",
       "      <td>Vons Chicken, 12740 La Mirada Blvd, La Mirada,...</td>\n",
       "      <td>0x80dd2b4c8555edb7:0xfc33d65c4bdbef42</td>\n",
       "      <td>None</td>\n",
       "      <td>33.916402</td>\n",
       "      <td>-118.010855</td>\n",
       "      <td>[Restaurant]</td>\n",
       "      <td>4.5</td>\n",
       "      <td>18</td>\n",
       "      <td>SIN DATO</td>\n",
       "      <td>[[Thursday, 11AM–9:30PM], [Friday, 11AM–9:30PM...</td>\n",
       "      <td>{'Service options': ['Outdoor seating', 'Curbs...</td>\n",
       "      <td>California</td>\n",
       "      <td>None</td>\n",
       "      <td>https://www.google.com/maps/place//data=!4m2!3...</td>\n",
       "      <td>True</td>\n",
       "      <td>La Mirada</td>\n",
       "    </tr>\n",
       "    <tr>\n",
       "      <th>68</th>\n",
       "      <td>Vivi Bubble Tea</td>\n",
       "      <td>Vivi Bubble Tea, 701 S 5th St, Philadelphia, P...</td>\n",
       "      <td>0x89c6c89efcaed69d:0xded973f6033e7dba</td>\n",
       "      <td>Bubble tea shop offering hot &amp; cold versions, ...</td>\n",
       "      <td>39.940293</td>\n",
       "      <td>-75.150923</td>\n",
       "      <td>[Restaurant]</td>\n",
       "      <td>4.0</td>\n",
       "      <td>8</td>\n",
       "      <td>SIN DATO</td>\n",
       "      <td>None</td>\n",
       "      <td>{'Service options': ['Delivery'], 'Amenities':...</td>\n",
       "      <td>Pennsylvania</td>\n",
       "      <td>[0x89c6c62a40f4b733:0x73bfeec1898f272b, 0x89c6...</td>\n",
       "      <td>https://www.google.com/maps/place//data=!4m2!3...</td>\n",
       "      <td>True</td>\n",
       "      <td>Philadelphia</td>\n",
       "    </tr>\n",
       "    <tr>\n",
       "      <th>96</th>\n",
       "      <td>Hale Pops</td>\n",
       "      <td>Hale Pops, 55-370 Kamehameha Hwy, Laie, HI 96762</td>\n",
       "      <td>0x7c00456eecad3111:0x8217f9600c51f33</td>\n",
       "      <td>None</td>\n",
       "      <td>21.637796</td>\n",
       "      <td>-157.920714</td>\n",
       "      <td>[Restaurant]</td>\n",
       "      <td>4.4</td>\n",
       "      <td>18</td>\n",
       "      <td>SIN DATO</td>\n",
       "      <td>[[Thursday, 11AM–8PM], [Friday, 11AM–8PM], [Sa...</td>\n",
       "      <td>{'Service options': ['Outdoor seating', 'Takeo...</td>\n",
       "      <td>Hawái</td>\n",
       "      <td>[0x7c00451360f80cf1:0x930291a38bab3132, 0x7c00...</td>\n",
       "      <td>https://www.google.com/maps/place//data=!4m2!3...</td>\n",
       "      <td>True</td>\n",
       "      <td>Laie</td>\n",
       "    </tr>\n",
       "  </tbody>\n",
       "</table>\n",
       "</div>"
      ],
      "text/plain": [
       "               name                                            address  \\\n",
       "6      Vons Chicken  Vons Chicken, 12740 La Mirada Blvd, La Mirada,...   \n",
       "68  Vivi Bubble Tea  Vivi Bubble Tea, 701 S 5th St, Philadelphia, P...   \n",
       "96        Hale Pops   Hale Pops, 55-370 Kamehameha Hwy, Laie, HI 96762   \n",
       "\n",
       "                                  gmap_id  \\\n",
       "6   0x80dd2b4c8555edb7:0xfc33d65c4bdbef42   \n",
       "68  0x89c6c89efcaed69d:0xded973f6033e7dba   \n",
       "96   0x7c00456eecad3111:0x8217f9600c51f33   \n",
       "\n",
       "                                          description   latitude   longitude  \\\n",
       "6                                                None  33.916402 -118.010855   \n",
       "68  Bubble tea shop offering hot & cold versions, ...  39.940293  -75.150923   \n",
       "96                                               None  21.637796 -157.920714   \n",
       "\n",
       "        category  avg_rating  num_of_reviews     price  \\\n",
       "6   [Restaurant]         4.5              18  SIN DATO   \n",
       "68  [Restaurant]         4.0               8  SIN DATO   \n",
       "96  [Restaurant]         4.4              18  SIN DATO   \n",
       "\n",
       "                                                hours  \\\n",
       "6   [[Thursday, 11AM–9:30PM], [Friday, 11AM–9:30PM...   \n",
       "68                                               None   \n",
       "96  [[Thursday, 11AM–8PM], [Friday, 11AM–8PM], [Sa...   \n",
       "\n",
       "                                                 MISC         state  \\\n",
       "6   {'Service options': ['Outdoor seating', 'Curbs...    California   \n",
       "68  {'Service options': ['Delivery'], 'Amenities':...  Pennsylvania   \n",
       "96  {'Service options': ['Outdoor seating', 'Takeo...         Hawái   \n",
       "\n",
       "                                     relative_results  \\\n",
       "6                                                None   \n",
       "68  [0x89c6c62a40f4b733:0x73bfeec1898f272b, 0x89c6...   \n",
       "96  [0x7c00451360f80cf1:0x930291a38bab3132, 0x7c00...   \n",
       "\n",
       "                                                  url  Es_Restaurant  \\\n",
       "6   https://www.google.com/maps/place//data=!4m2!3...           True   \n",
       "68  https://www.google.com/maps/place//data=!4m2!3...           True   \n",
       "96  https://www.google.com/maps/place//data=!4m2!3...           True   \n",
       "\n",
       "            city  \n",
       "6      La Mirada  \n",
       "68  Philadelphia  \n",
       "96          Laie  "
      ]
     },
     "execution_count": 95,
     "metadata": {},
     "output_type": "execute_result"
    }
   ],
   "source": [
    "df_sitios.head(3)"
   ]
  },
  {
   "cell_type": "code",
   "execution_count": 96,
   "metadata": {},
   "outputs": [],
   "source": [
    "lista_estados= ['Florida', 'Pennsylvania', 'Tennessee', 'California', 'Texas', 'New York']\n",
    "df_sitios= df_sitios[df_sitios['state'].isin(lista_estados)]"
   ]
  },
  {
   "cell_type": "code",
   "execution_count": 97,
   "metadata": {},
   "outputs": [
    {
     "data": {
      "text/plain": [
       "(1998, 17)"
      ]
     },
     "execution_count": 97,
     "metadata": {},
     "output_type": "execute_result"
    }
   ],
   "source": [
    "df_sitios.shape"
   ]
  },
  {
   "cell_type": "code",
   "execution_count": 98,
   "metadata": {},
   "outputs": [],
   "source": [
    "df_category= df_sitios[['gmap_id','category']]\n",
    "df_category= df_category.explode('category')"
   ]
  },
  {
   "cell_type": "code",
   "execution_count": 99,
   "metadata": {},
   "outputs": [
    {
     "data": {
      "text/plain": [
       "category\n",
       "Restaurant                 1998\n",
       "Sandwich shop               150\n",
       "Fast food restaurant        148\n",
       "Takeout Restaurant          137\n",
       "Caterer                     128\n",
       "                           ... \n",
       "Haitian restaurant            1\n",
       "Bed & breakfast               1\n",
       "Motel                         1\n",
       "Performing arts theater       1\n",
       "Cantonese restaurant          1\n",
       "Name: count, Length: 272, dtype: int64"
      ]
     },
     "execution_count": 99,
     "metadata": {},
     "output_type": "execute_result"
    }
   ],
   "source": [
    "df_category['category'].value_counts()"
   ]
  },
  {
   "cell_type": "code",
   "execution_count": 100,
   "metadata": {},
   "outputs": [],
   "source": [
    "df_category= df_category.rename(columns={'gmap_id': 'business_id','category': 'category_name'}) # cambiar nombre de las columnas"
   ]
  },
  {
   "cell_type": "code",
   "execution_count": 102,
   "metadata": {},
   "outputs": [
    {
     "data": {
      "text/html": [
       "<div>\n",
       "<style scoped>\n",
       "    .dataframe tbody tr th:only-of-type {\n",
       "        vertical-align: middle;\n",
       "    }\n",
       "\n",
       "    .dataframe tbody tr th {\n",
       "        vertical-align: top;\n",
       "    }\n",
       "\n",
       "    .dataframe thead th {\n",
       "        text-align: right;\n",
       "    }\n",
       "</style>\n",
       "<table border=\"1\" class=\"dataframe\">\n",
       "  <thead>\n",
       "    <tr style=\"text-align: right;\">\n",
       "      <th></th>\n",
       "      <th>business_id</th>\n",
       "      <th>category_name</th>\n",
       "    </tr>\n",
       "  </thead>\n",
       "  <tbody>\n",
       "    <tr>\n",
       "      <th>6</th>\n",
       "      <td>0x80dd2b4c8555edb7:0xfc33d65c4bdbef42</td>\n",
       "      <td>Restaurant</td>\n",
       "    </tr>\n",
       "    <tr>\n",
       "      <th>68</th>\n",
       "      <td>0x89c6c89efcaed69d:0xded973f6033e7dba</td>\n",
       "      <td>Restaurant</td>\n",
       "    </tr>\n",
       "    <tr>\n",
       "      <th>114</th>\n",
       "      <td>0x88db4147b1d9e6f3:0x943dbd10a92ba1b1</td>\n",
       "      <td>Restaurant</td>\n",
       "    </tr>\n",
       "  </tbody>\n",
       "</table>\n",
       "</div>"
      ],
      "text/plain": [
       "                               business_id category_name\n",
       "6    0x80dd2b4c8555edb7:0xfc33d65c4bdbef42    Restaurant\n",
       "68   0x89c6c89efcaed69d:0xded973f6033e7dba    Restaurant\n",
       "114  0x88db4147b1d9e6f3:0x943dbd10a92ba1b1    Restaurant"
      ]
     },
     "execution_count": 102,
     "metadata": {},
     "output_type": "execute_result"
    }
   ],
   "source": [
    "df_category.head(3)"
   ]
  },
  {
   "cell_type": "code",
   "execution_count": 103,
   "metadata": {},
   "outputs": [],
   "source": [
    "# Se guardan las columnas MISC y el gmap_id en un df\n",
    "df_misc= df_sitios[['gmap_id','MISC']]\n",
    "df_misc= df_misc.dropna(subset=['MISC']) # Elimina filas con MISC nulo"
   ]
  },
  {
   "cell_type": "code",
   "execution_count": 104,
   "metadata": {},
   "outputs": [],
   "source": [
    "# Funcion para cargar los json a una serie de pandas\n",
    "def expandir_diccionario(diccionario):\n",
    "    return pd.Series(diccionario)\n",
    "\n",
    "# Se concatenas las series al df original\n",
    "df_expandido = pd.concat([df_misc, df_misc['MISC'].apply(expandir_diccionario)], axis=1)\n",
    "df_expandido.drop('MISC', axis=1, inplace=True)     # Se elimina la columna de MISC\n",
    "df_misc= df_expandido"
   ]
  },
  {
   "cell_type": "code",
   "execution_count": 105,
   "metadata": {},
   "outputs": [],
   "source": [
    "df_Service_options= df_misc[['gmap_id','Service options']]      # Se crea un df solo las columnas gmap_id y Service Options\n",
    "df_Service_options= df_Service_options.rename(columns={'gmap_id': 'business_id','Service options': 'service_option'}) # cambiar nombre de las columnas\n",
    "df_Service_options= df_Service_options.dropna(subset=['service_option']) # Elimina filas con columna 'Service Opciones nulas'\n",
    "df_Service_options= df_Service_options.explode('service_option')"
   ]
  },
  {
   "cell_type": "code",
   "execution_count": 106,
   "metadata": {},
   "outputs": [
    {
     "data": {
      "text/html": [
       "<div>\n",
       "<style scoped>\n",
       "    .dataframe tbody tr th:only-of-type {\n",
       "        vertical-align: middle;\n",
       "    }\n",
       "\n",
       "    .dataframe tbody tr th {\n",
       "        vertical-align: top;\n",
       "    }\n",
       "\n",
       "    .dataframe thead th {\n",
       "        text-align: right;\n",
       "    }\n",
       "</style>\n",
       "<table border=\"1\" class=\"dataframe\">\n",
       "  <thead>\n",
       "    <tr style=\"text-align: right;\">\n",
       "      <th></th>\n",
       "      <th>business_id</th>\n",
       "      <th>service_option</th>\n",
       "    </tr>\n",
       "  </thead>\n",
       "  <tbody>\n",
       "    <tr>\n",
       "      <th>6</th>\n",
       "      <td>0x80dd2b4c8555edb7:0xfc33d65c4bdbef42</td>\n",
       "      <td>Outdoor seating</td>\n",
       "    </tr>\n",
       "    <tr>\n",
       "      <th>6</th>\n",
       "      <td>0x80dd2b4c8555edb7:0xfc33d65c4bdbef42</td>\n",
       "      <td>Curbside pickup</td>\n",
       "    </tr>\n",
       "    <tr>\n",
       "      <th>6</th>\n",
       "      <td>0x80dd2b4c8555edb7:0xfc33d65c4bdbef42</td>\n",
       "      <td>No-contact delivery</td>\n",
       "    </tr>\n",
       "  </tbody>\n",
       "</table>\n",
       "</div>"
      ],
      "text/plain": [
       "                             business_id       service_option\n",
       "6  0x80dd2b4c8555edb7:0xfc33d65c4bdbef42      Outdoor seating\n",
       "6  0x80dd2b4c8555edb7:0xfc33d65c4bdbef42      Curbside pickup\n",
       "6  0x80dd2b4c8555edb7:0xfc33d65c4bdbef42  No-contact delivery"
      ]
     },
     "execution_count": 106,
     "metadata": {},
     "output_type": "execute_result"
    }
   ],
   "source": [
    "df_Service_options.head(3)"
   ]
  },
  {
   "cell_type": "code",
   "execution_count": 107,
   "metadata": {},
   "outputs": [],
   "source": [
    "df_Planning= df_misc[['gmap_id','Planning']]      # Se crea un df solo las columnas gmap_id y Planning\n",
    "df_Planning= df_Planning.rename(columns={'gmap_id': 'business_id', 'Planning': 'planning_option'}) # cambiar nombre de la columna\n",
    "df_Planning= df_Planning.dropna(subset=['planning_option']) # Elimina filas con columna 'Service Opciones nulas'\n",
    "df_Planning= df_Planning.explode('planning_option')"
   ]
  },
  {
   "cell_type": "code",
   "execution_count": 108,
   "metadata": {},
   "outputs": [
    {
     "data": {
      "text/html": [
       "<div>\n",
       "<style scoped>\n",
       "    .dataframe tbody tr th:only-of-type {\n",
       "        vertical-align: middle;\n",
       "    }\n",
       "\n",
       "    .dataframe tbody tr th {\n",
       "        vertical-align: top;\n",
       "    }\n",
       "\n",
       "    .dataframe thead th {\n",
       "        text-align: right;\n",
       "    }\n",
       "</style>\n",
       "<table border=\"1\" class=\"dataframe\">\n",
       "  <thead>\n",
       "    <tr style=\"text-align: right;\">\n",
       "      <th></th>\n",
       "      <th>business_id</th>\n",
       "      <th>planning_option</th>\n",
       "    </tr>\n",
       "  </thead>\n",
       "  <tbody>\n",
       "    <tr>\n",
       "      <th>917</th>\n",
       "      <td>0x89c587762e7e69dd:0x30a60dce48b073c3</td>\n",
       "      <td>Accepts reservations</td>\n",
       "    </tr>\n",
       "    <tr>\n",
       "      <th>1165</th>\n",
       "      <td>0x88c2fea614c52c8b:0x50e166caa05e8c0f</td>\n",
       "      <td>Accepts reservations</td>\n",
       "    </tr>\n",
       "    <tr>\n",
       "      <th>2147</th>\n",
       "      <td>0x89c25a275e5088dd:0xb6ecb4eaa82d1180</td>\n",
       "      <td>Quick visit</td>\n",
       "    </tr>\n",
       "  </tbody>\n",
       "</table>\n",
       "</div>"
      ],
      "text/plain": [
       "                                business_id       planning_option\n",
       "917   0x89c587762e7e69dd:0x30a60dce48b073c3  Accepts reservations\n",
       "1165  0x88c2fea614c52c8b:0x50e166caa05e8c0f  Accepts reservations\n",
       "2147  0x89c25a275e5088dd:0xb6ecb4eaa82d1180           Quick visit"
      ]
     },
     "execution_count": 108,
     "metadata": {},
     "output_type": "execute_result"
    }
   ],
   "source": [
    "df_Planning.head(3)"
   ]
  },
  {
   "cell_type": "code",
   "execution_count": 109,
   "metadata": {},
   "outputs": [],
   "source": [
    "#Borrar Columnas\n",
    "df_sitios= df_sitios.drop(['relative_results','address', 'num_of_reviews', 'description', 'url','category', 'MISC', 'hours'], axis=1) \n",
    "# Ordena el orden de las columnas\n",
    "df_sitios= df_sitios[['gmap_id','name', 'city', 'state', 'latitude', 'longitude', 'avg_rating', 'price']]"
   ]
  },
  {
   "cell_type": "code",
   "execution_count": 110,
   "metadata": {},
   "outputs": [],
   "source": [
    "df_sitios= df_sitios.rename(columns={'gmap_id': 'business_id', 'avg_rating': 'stars'}) # cambiar nombre de la columna"
   ]
  },
  {
   "cell_type": "code",
   "execution_count": 111,
   "metadata": {},
   "outputs": [],
   "source": [
    "df_sitios['platform']= 1"
   ]
  },
  {
   "cell_type": "code",
   "execution_count": 112,
   "metadata": {},
   "outputs": [
    {
     "data": {
      "text/html": [
       "<div>\n",
       "<style scoped>\n",
       "    .dataframe tbody tr th:only-of-type {\n",
       "        vertical-align: middle;\n",
       "    }\n",
       "\n",
       "    .dataframe tbody tr th {\n",
       "        vertical-align: top;\n",
       "    }\n",
       "\n",
       "    .dataframe thead th {\n",
       "        text-align: right;\n",
       "    }\n",
       "</style>\n",
       "<table border=\"1\" class=\"dataframe\">\n",
       "  <thead>\n",
       "    <tr style=\"text-align: right;\">\n",
       "      <th></th>\n",
       "      <th>business_id</th>\n",
       "      <th>name</th>\n",
       "      <th>city</th>\n",
       "      <th>state</th>\n",
       "      <th>latitude</th>\n",
       "      <th>longitude</th>\n",
       "      <th>stars</th>\n",
       "      <th>price</th>\n",
       "      <th>platform</th>\n",
       "    </tr>\n",
       "  </thead>\n",
       "  <tbody>\n",
       "    <tr>\n",
       "      <th>6</th>\n",
       "      <td>0x80dd2b4c8555edb7:0xfc33d65c4bdbef42</td>\n",
       "      <td>Vons Chicken</td>\n",
       "      <td>La Mirada</td>\n",
       "      <td>California</td>\n",
       "      <td>33.916402</td>\n",
       "      <td>-118.010855</td>\n",
       "      <td>4.5</td>\n",
       "      <td>SIN DATO</td>\n",
       "      <td>1</td>\n",
       "    </tr>\n",
       "    <tr>\n",
       "      <th>68</th>\n",
       "      <td>0x89c6c89efcaed69d:0xded973f6033e7dba</td>\n",
       "      <td>Vivi Bubble Tea</td>\n",
       "      <td>Philadelphia</td>\n",
       "      <td>Pennsylvania</td>\n",
       "      <td>39.940293</td>\n",
       "      <td>-75.150923</td>\n",
       "      <td>4.0</td>\n",
       "      <td>SIN DATO</td>\n",
       "      <td>1</td>\n",
       "    </tr>\n",
       "    <tr>\n",
       "      <th>114</th>\n",
       "      <td>0x88db4147b1d9e6f3:0x943dbd10a92ba1b1</td>\n",
       "      <td>Cape Seafood Shack</td>\n",
       "      <td>Cape Coral</td>\n",
       "      <td>Florida</td>\n",
       "      <td>26.641377</td>\n",
       "      <td>-81.940545</td>\n",
       "      <td>5.0</td>\n",
       "      <td>$$</td>\n",
       "      <td>1</td>\n",
       "    </tr>\n",
       "    <tr>\n",
       "      <th>123</th>\n",
       "      <td>0x8644b59b8fe872e5:0x5e638876caa84cc3</td>\n",
       "      <td>Golden Castle</td>\n",
       "      <td>Austin</td>\n",
       "      <td>Texas</td>\n",
       "      <td>30.273985</td>\n",
       "      <td>-97.719563</td>\n",
       "      <td>4.5</td>\n",
       "      <td>SIN DATO</td>\n",
       "      <td>1</td>\n",
       "    </tr>\n",
       "    <tr>\n",
       "      <th>271</th>\n",
       "      <td>0x808f87f90c1f661f:0xf384e804a61e0c0b</td>\n",
       "      <td>Mariscos el poblano</td>\n",
       "      <td>Oakland</td>\n",
       "      <td>California</td>\n",
       "      <td>37.764203</td>\n",
       "      <td>-122.214647</td>\n",
       "      <td>5.0</td>\n",
       "      <td>SIN DATO</td>\n",
       "      <td>1</td>\n",
       "    </tr>\n",
       "    <tr>\n",
       "      <th>...</th>\n",
       "      <td>...</td>\n",
       "      <td>...</td>\n",
       "      <td>...</td>\n",
       "      <td>...</td>\n",
       "      <td>...</td>\n",
       "      <td>...</td>\n",
       "      <td>...</td>\n",
       "      <td>...</td>\n",
       "      <td>...</td>\n",
       "    </tr>\n",
       "    <tr>\n",
       "      <th>274722</th>\n",
       "      <td>0x89e82d0591b06633:0x40e962ba688eb743</td>\n",
       "      <td>Deli boss &amp; brunch</td>\n",
       "      <td>West Babylon</td>\n",
       "      <td>New York</td>\n",
       "      <td>40.719946</td>\n",
       "      <td>-73.355972</td>\n",
       "      <td>4.4</td>\n",
       "      <td>SIN DATO</td>\n",
       "      <td>1</td>\n",
       "    </tr>\n",
       "    <tr>\n",
       "      <th>274772</th>\n",
       "      <td>0x887f850c749005f9:0xed634f0483c645a4</td>\n",
       "      <td>Taqueria Los Compadres</td>\n",
       "      <td>Memphis</td>\n",
       "      <td>Tennessee</td>\n",
       "      <td>35.050547</td>\n",
       "      <td>-89.866261</td>\n",
       "      <td>4.9</td>\n",
       "      <td>SIN DATO</td>\n",
       "      <td>1</td>\n",
       "    </tr>\n",
       "    <tr>\n",
       "      <th>274781</th>\n",
       "      <td>0x89c2f404caa68913:0x592c8b89b6226a82</td>\n",
       "      <td>Pica Pollo 809</td>\n",
       "      <td>New York</td>\n",
       "      <td>New York</td>\n",
       "      <td>40.855985</td>\n",
       "      <td>-73.928615</td>\n",
       "      <td>4.1</td>\n",
       "      <td>SIN DATO</td>\n",
       "      <td>1</td>\n",
       "    </tr>\n",
       "    <tr>\n",
       "      <th>274958</th>\n",
       "      <td>0x89d6b577c1295421:0xb1f4ce1abf53d3b6</td>\n",
       "      <td>Palermo’s Market</td>\n",
       "      <td>Rochester</td>\n",
       "      <td>New York</td>\n",
       "      <td>43.157746</td>\n",
       "      <td>-77.605956</td>\n",
       "      <td>4.9</td>\n",
       "      <td>SIN DATO</td>\n",
       "      <td>1</td>\n",
       "    </tr>\n",
       "    <tr>\n",
       "      <th>274962</th>\n",
       "      <td>0x80c2b5826663f60d:0x969ceb2d88ae4623</td>\n",
       "      <td>Shin-Sen-Gumi 2GO</td>\n",
       "      <td>Gardena</td>\n",
       "      <td>California</td>\n",
       "      <td>33.888211</td>\n",
       "      <td>-118.304874</td>\n",
       "      <td>4.3</td>\n",
       "      <td>$</td>\n",
       "      <td>1</td>\n",
       "    </tr>\n",
       "  </tbody>\n",
       "</table>\n",
       "<p>1998 rows × 9 columns</p>\n",
       "</div>"
      ],
      "text/plain": [
       "                                  business_id                    name  \\\n",
       "6       0x80dd2b4c8555edb7:0xfc33d65c4bdbef42            Vons Chicken   \n",
       "68      0x89c6c89efcaed69d:0xded973f6033e7dba         Vivi Bubble Tea   \n",
       "114     0x88db4147b1d9e6f3:0x943dbd10a92ba1b1      Cape Seafood Shack   \n",
       "123     0x8644b59b8fe872e5:0x5e638876caa84cc3           Golden Castle   \n",
       "271     0x808f87f90c1f661f:0xf384e804a61e0c0b     Mariscos el poblano   \n",
       "...                                       ...                     ...   \n",
       "274722  0x89e82d0591b06633:0x40e962ba688eb743      Deli boss & brunch   \n",
       "274772  0x887f850c749005f9:0xed634f0483c645a4  Taqueria Los Compadres   \n",
       "274781  0x89c2f404caa68913:0x592c8b89b6226a82          Pica Pollo 809   \n",
       "274958  0x89d6b577c1295421:0xb1f4ce1abf53d3b6        Palermo’s Market   \n",
       "274962  0x80c2b5826663f60d:0x969ceb2d88ae4623       Shin-Sen-Gumi 2GO   \n",
       "\n",
       "                city         state   latitude   longitude  stars     price  \\\n",
       "6          La Mirada    California  33.916402 -118.010855    4.5  SIN DATO   \n",
       "68      Philadelphia  Pennsylvania  39.940293  -75.150923    4.0  SIN DATO   \n",
       "114       Cape Coral       Florida  26.641377  -81.940545    5.0        $$   \n",
       "123           Austin         Texas  30.273985  -97.719563    4.5  SIN DATO   \n",
       "271          Oakland    California  37.764203 -122.214647    5.0  SIN DATO   \n",
       "...              ...           ...        ...         ...    ...       ...   \n",
       "274722  West Babylon      New York  40.719946  -73.355972    4.4  SIN DATO   \n",
       "274772       Memphis     Tennessee  35.050547  -89.866261    4.9  SIN DATO   \n",
       "274781      New York      New York  40.855985  -73.928615    4.1  SIN DATO   \n",
       "274958     Rochester      New York  43.157746  -77.605956    4.9  SIN DATO   \n",
       "274962       Gardena    California  33.888211 -118.304874    4.3         $   \n",
       "\n",
       "        platform  \n",
       "6              1  \n",
       "68             1  \n",
       "114            1  \n",
       "123            1  \n",
       "271            1  \n",
       "...          ...  \n",
       "274722         1  \n",
       "274772         1  \n",
       "274781         1  \n",
       "274958         1  \n",
       "274962         1  \n",
       "\n",
       "[1998 rows x 9 columns]"
      ]
     },
     "execution_count": 112,
     "metadata": {},
     "output_type": "execute_result"
    }
   ],
   "source": [
    "df_sitios"
   ]
  }
 ],
 "metadata": {
  "kernelspec": {
   "display_name": "Python 3",
   "language": "python",
   "name": "python3"
  },
  "language_info": {
   "codemirror_mode": {
    "name": "ipython",
    "version": 3
   },
   "file_extension": ".py",
   "mimetype": "text/x-python",
   "name": "python",
   "nbconvert_exporter": "python",
   "pygments_lexer": "ipython3",
   "version": "3.11.1"
  }
 },
 "nbformat": 4,
 "nbformat_minor": 2
}
