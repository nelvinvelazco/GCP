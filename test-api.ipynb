{
 "cells": [
  {
   "cell_type": "code",
   "execution_count": 17,
   "metadata": {},
   "outputs": [],
   "source": [
    "import requests\n",
    "import numpy as np"
   ]
  },
  {
   "cell_type": "code",
   "execution_count": 4,
   "metadata": {},
   "outputs": [
    {
     "name": "stdout",
     "output_type": "stream",
     "text": [
      "<class 'numpy.ndarray'>\n"
     ]
    },
    {
     "data": {
      "text/plain": [
       "array([[ 3.60494687e+01, -8.67628299e+01, -1.75409833e-01,\n",
       "         7.00771846e-01,  2.65144890e-01,  6.98449323e-01,\n",
       "         5.01514170e-01,  7.59238046e-03, -1.30796919e-01],\n",
       "       [ 3.54335398e+01, -8.94075593e+01,  1.18223683e+00,\n",
       "        -1.42699797e+00,  3.94086799e-01, -1.41917559e+00,\n",
       "        -2.93088897e-01, -3.09322189e-02, -2.55730669e-01],\n",
       "       [ 3.52119783e+01, -8.99175067e+01, -1.87333780e-01,\n",
       "        -1.42699797e+00, -5.63598416e-02, -1.43174310e+00,\n",
       "        -4.48809200e-01, -2.51710205e-01,  6.97664403e+00],\n",
       "       [ 3.60869604e+01, -8.67350125e+01, -9.87120241e-01,\n",
       "         4.95358730e-01, -1.85947735e+00,  4.92802331e-01,\n",
       "        -1.53622243e+00,  4.62841968e-02,  3.12507978e-01],\n",
       "       [ 3.60303939e+01, -8.65465103e+01,  6.10076128e-01,\n",
       "        -1.42699797e+00,  3.27534095e-01, -1.42224392e+00,\n",
       "        -1.77521289e-01, -1.88537770e-02, -2.33053467e-01]])"
      ]
     },
     "execution_count": 4,
     "metadata": {},
     "output_type": "execute_result"
    }
   ],
   "source": [
    "def obtener_datos(estado: str, tipo_de_comida: str):\n",
    "    url = f\"https://api-modelo-nyo7ju5e4q-rj.a.run.app/recomendacion/{estado},{tipo_de_comida}\"  # Asegúrate de que esta URL sea la correcta para tu AP\n",
    "    response = requests.get(url)\n",
    "    \n",
    "    if response.status_code == 200:\n",
    "        datos = response.json()\n",
    "        # Convertir los datos a un arreglo de NumPy\n",
    "        arreglo = np.array(datos)\n",
    "        return arreglo\n",
    "    else:\n",
    "        response.raise_for_status()\n",
    "\n",
    "# Llamada de ejemplo\n",
    "estado = \"Tennessee\"\n",
    "tipo_de_comida = \"Mariscos\"\n",
    "resultado = obtener_datos(estado, tipo_de_comida)\n",
    "\n",
    "print(type(resultado))  # Verifica que el tipo sea numpy.ndarray\n",
    "resultado"
   ]
  }
 ],
 "metadata": {
  "kernelspec": {
   "display_name": ".venv",
   "language": "python",
   "name": "python3"
  },
  "language_info": {
   "codemirror_mode": {
    "name": "ipython",
    "version": 3
   },
   "file_extension": ".py",
   "mimetype": "text/x-python",
   "name": "python",
   "nbconvert_exporter": "python",
   "pygments_lexer": "ipython3",
   "version": "3.11.1"
  }
 },
 "nbformat": 4,
 "nbformat_minor": 2
}
