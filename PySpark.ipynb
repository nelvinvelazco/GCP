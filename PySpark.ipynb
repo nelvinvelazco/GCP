{
  "nbformat": 4,
  "nbformat_minor": 0,
  "metadata": {
    "colab": {
      "provenance": []
    },
    "kernelspec": {
      "name": "python3",
      "display_name": "Python 3"
    },
    "language_info": {
      "name": "python"
    }
  },
  "cells": [
    {
      "cell_type": "code",
      "execution_count": 1,
      "metadata": {
        "colab": {
          "base_uri": "https://localhost:8080/"
        },
        "id": "hoVi_hBdYANZ",
        "outputId": "6af37875-7fc1-4920-af89-d3e4cbfe3f55"
      },
      "outputs": [
        {
          "output_type": "stream",
          "name": "stdout",
          "text": [
            "Collecting pyspark\n",
            "  Downloading pyspark-3.5.1.tar.gz (317.0 MB)\n",
            "\u001b[2K     \u001b[90m━━━━━━━━━━━━━━━━━━━━━━━━━━━━━━━━━━━━━━━━\u001b[0m \u001b[32m317.0/317.0 MB\u001b[0m \u001b[31m2.6 MB/s\u001b[0m eta \u001b[36m0:00:00\u001b[0m\n",
            "\u001b[?25h  Preparing metadata (setup.py) ... \u001b[?25l\u001b[?25hdone\n",
            "Requirement already satisfied: py4j==0.10.9.7 in /usr/local/lib/python3.10/dist-packages (from pyspark) (0.10.9.7)\n",
            "Building wheels for collected packages: pyspark\n",
            "  Building wheel for pyspark (setup.py) ... \u001b[?25l\u001b[?25hdone\n",
            "  Created wheel for pyspark: filename=pyspark-3.5.1-py2.py3-none-any.whl size=317488491 sha256=fa3d3d4dd51850bcc2e77cd25e2f7a228b6916d7eb1af3e40580be72b24ad196\n",
            "  Stored in directory: /root/.cache/pip/wheels/80/1d/60/2c256ed38dddce2fdd93be545214a63e02fbd8d74fb0b7f3a6\n",
            "Successfully built pyspark\n",
            "Installing collected packages: pyspark\n",
            "Successfully installed pyspark-3.5.1\n"
          ]
        }
      ],
      "source": [
        "!apt-get install openjdk-8-jdk-headless -qq > /dev/null\n",
        "!pip install pyspark"
      ]
    },
    {
      "cell_type": "code",
      "source": [
        "import os\n",
        "\n",
        "os.environ[\"JAVA_HOME\"] = \"/usr/lib/jvm/java-8-openjdk-amd64\"\n",
        "os.environ[\"SPARK_HOME\"] = \"/usr/local/lib/python3.10/dist-packages/pyspark\""
      ],
      "metadata": {
        "id": "52s8hXU7Z1LU"
      },
      "execution_count": 2,
      "outputs": []
    },
    {
      "cell_type": "code",
      "source": [
        "from pyspark.sql import SparkSession\n",
        "\n",
        "spark = SparkSession.builder.master(\"local[*]\").getOrCreate()"
      ],
      "metadata": {
        "id": "a0ho6CEtZ8kc"
      },
      "execution_count": 3,
      "outputs": []
    },
    {
      "cell_type": "code",
      "source": [
        "from pyspark.sql.functions import array_contains, col, udf, split, trim, explode\n",
        "from pyspark.sql.types import StringType, StructType, StructField"
      ],
      "metadata": {
        "id": "ub0Vcz8XcWyx"
      },
      "execution_count": 128,
      "outputs": []
    },
    {
      "cell_type": "code",
      "source": [
        "\n",
        "df_data = spark.read.json('/content/1.json')"
      ],
      "metadata": {
        "id": "o3og3Y2NbE88"
      },
      "execution_count": 105,
      "outputs": []
    },
    {
      "cell_type": "code",
      "source": [
        "print(f\"Total de filas: {df_data.count()}\")"
      ],
      "metadata": {
        "colab": {
          "base_uri": "https://localhost:8080/"
        },
        "id": "Fw9cuxuJnphF",
        "outputId": "315f94cc-ed29-46c9-c095-996884f1f907"
      },
      "execution_count": 91,
      "outputs": [
        {
          "output_type": "stream",
          "name": "stdout",
          "text": [
            "Total de filas: 275001\n"
          ]
        }
      ]
    },
    {
      "cell_type": "code",
      "source": [
        "df_estados = spark.read.option(\"delimiter\", \";\").option(\"header\", \"true\").csv('/content/estados_usa.csv')"
      ],
      "metadata": {
        "id": "bUCc7BK4fWMl"
      },
      "execution_count": 34,
      "outputs": []
    },
    {
      "cell_type": "code",
      "source": [
        "df_estados.show(50)"
      ],
      "metadata": {
        "id": "7Q3HnlzydVII"
      },
      "execution_count": null,
      "outputs": []
    },
    {
      "cell_type": "code",
      "source": [
        "# Convertir el DataFrame a Pandas y luego a un diccionario\n",
        "estados_dict = df_estados.select(\"nombre_corto\", \"nombre_largo\").toPandas().set_index(\"nombre_corto\").to_dict()[\"nombre_largo\"]"
      ],
      "metadata": {
        "id": "XrwgUrmCE3rj"
      },
      "execution_count": 106,
      "outputs": []
    },
    {
      "cell_type": "code",
      "source": [
        "df_data = df_data.drop('relative_results', 'num_of_reviews', 'description', 'url', 'MISC', 'hours')"
      ],
      "metadata": {
        "id": "G2t7f1DknLC9"
      },
      "execution_count": 107,
      "outputs": []
    },
    {
      "cell_type": "code",
      "source": [
        "df_data = df_data.dropDuplicates(['gmap_id'])\n",
        "df_data = df_data.dropna(subset=['address'])\n",
        "df_data = df_data.dropna(subset=['category'])"
      ],
      "metadata": {
        "id": "GYgOkBbjbRTK"
      },
      "execution_count": 108,
      "outputs": []
    },
    {
      "cell_type": "code",
      "source": [
        "# Crear una nueva columna que indique si la categoría contiene 'Restaurant'\n",
        "df_data = df_data.withColumn('Es_Restaurant', array_contains(col('category'), 'Restaurant'))"
      ],
      "metadata": {
        "id": "Xajzss_tcDdR"
      },
      "execution_count": 109,
      "outputs": []
    },
    {
      "cell_type": "code",
      "source": [
        "df_data = df_data.filter(col('Es_Restaurant') == True)"
      ],
      "metadata": {
        "id": "eRIFPj3pcb36"
      },
      "execution_count": 110,
      "outputs": []
    },
    {
      "cell_type": "code",
      "source": [
        "df_data.show(3)"
      ],
      "metadata": {
        "colab": {
          "base_uri": "https://localhost:8080/"
        },
        "id": "J_WEeoIecz0X",
        "outputId": "88f6cf4f-9b31-48f9-f3fd-0f4ff6c5c61f"
      },
      "execution_count": 111,
      "outputs": [
        {
          "output_type": "stream",
          "name": "stdout",
          "text": [
            "+--------------------+----------+--------------------+--------------------+----------+------------+--------------------+-----+--------------------+-------------+\n",
            "|             address|avg_rating|            category|             gmap_id|  latitude|   longitude|                name|price|               state|Es_Restaurant|\n",
            "+--------------------+----------+--------------------+--------------------+----------+------------+--------------------+-----+--------------------+-------------+\n",
            "|Rob's Lunch Box D...|       4.8|[Restaurant, Rest...|0x407636ffaaab494...|38.3551241|-122.7086001|Rob's Lunch Box D...| NULL|  Permanently closed|         true|\n",
            "|Shell, 529 US-1, ...|       4.5|[Gas station, ATM...|0x4ca8ad3fffffffa...|44.9523393| -67.1744369|               Shell|   $$|            Open now|         true|\n",
            "|New Meadows Seafo...|       4.8|[Seafood market, ...|0x4cad85e6d5f862d...|43.9280587| -69.8585195|New Meadows Seafo...| NULL|Closed ⋅ Opens 10...|         true|\n",
            "+--------------------+----------+--------------------+--------------------+----------+------------+--------------------+-----+--------------------+-------------+\n",
            "only showing top 3 rows\n",
            "\n"
          ]
        }
      ]
    },
    {
      "cell_type": "code",
      "source": [
        "print(f\"Total de filas: {df_data.count()}\")"
      ],
      "metadata": {
        "colab": {
          "base_uri": "https://localhost:8080/"
        },
        "id": "br12Ucbfdb--",
        "outputId": "3c26c6a1-645f-41eb-f1df-97d983b3b294"
      },
      "execution_count": 112,
      "outputs": [
        {
          "output_type": "stream",
          "name": "stdout",
          "text": [
            "Total de filas: 4867\n"
          ]
        }
      ]
    },
    {
      "cell_type": "code",
      "source": [
        "df_data= df_data.fillna({'price':'SIN DATO', 'state':'SIN DATO'})     # Se imputan los valores nulos a 'SIN DATO'"
      ],
      "metadata": {
        "id": "jemAvBWGd9ze"
      },
      "execution_count": 113,
      "outputs": []
    },
    {
      "cell_type": "code",
      "source": [
        "# Definir la función UDF\n",
        "def ext_ciudad_estado(dir, estados_dict):\n",
        "    ciudad = \"SIN DATO\"\n",
        "    estado = \"SIN DATO\"\n",
        "    if len(str(dir)) > 10:\n",
        "        lista = str(dir).split(',')\n",
        "        if len(lista) > 2:\n",
        "            codigo = lista[-1][1:3]\n",
        "            estado = estados_dict.get(codigo, \"SIN DATO\")\n",
        "            ciudad = lista[-2].strip() if estado != \"SIN DATO\" else \"SIN DATO\"\n",
        "    return ciudad, estado"
      ],
      "metadata": {
        "id": "UgqO8p89gw9t"
      },
      "execution_count": 114,
      "outputs": []
    },
    {
      "cell_type": "code",
      "source": [
        "# Registrar la UDF usando el diccionario\n",
        "@udf(StructType([StructField(\"ciudad\", StringType(), True), StructField(\"estado\", StringType(), True)]))\n",
        "def ext_ciudad_estado_udf(dir):\n",
        "    return ext_ciudad_estado(dir, estados_dict)"
      ],
      "metadata": {
        "id": "HAQGuRFNcJ1y"
      },
      "execution_count": 115,
      "outputs": []
    },
    {
      "cell_type": "code",
      "source": [
        "# Aplicar la UDF al DataFrame\n",
        "df_data = df_data.withColumn(\"ciudad_estado\", ext_ciudad_estado_udf(df_data[\"address\"]))\n",
        "df_data = df_data.withColumn(\"ciudad\", col(\"ciudad_estado\").getItem(\"ciudad\")) \\\n",
        "                 .withColumn(\"estado\", col(\"ciudad_estado\").getItem(\"estado\")) \\\n",
        "                 .drop(\"ciudad_estado\")"
      ],
      "metadata": {
        "id": "8ox3Ihbbchhx"
      },
      "execution_count": 116,
      "outputs": []
    },
    {
      "cell_type": "code",
      "source": [
        "df_data = df_data.withColumn('estado', trim(col('estado')))"
      ],
      "metadata": {
        "id": "_fqU9QsJjKFU"
      },
      "execution_count": 122,
      "outputs": []
    },
    {
      "cell_type": "code",
      "source": [
        "lista_estados= ['Florida', 'Pennsylvania', 'Tennessee', 'California', 'Texas', 'New York']\n",
        "# Filtrar el DataFrame\n",
        "df_data = df_data.filter(col('estado').isin(lista_estados))"
      ],
      "metadata": {
        "id": "aufMb30Sp8_9"
      },
      "execution_count": 126,
      "outputs": []
    },
    {
      "cell_type": "code",
      "source": [
        "df_data.show(3)"
      ],
      "metadata": {
        "colab": {
          "base_uri": "https://localhost:8080/"
        },
        "id": "3lxKYMe2jYLH",
        "outputId": "5f235deb-8122-4377-a84f-2032ed81702c"
      },
      "execution_count": 127,
      "outputs": [
        {
          "output_type": "stream",
          "name": "stdout",
          "text": [
            "+--------------------+----------+--------------------+--------------------+----------+-------------------+--------------------+--------+------------------+-------------+------------+----------+\n",
            "|             address|avg_rating|            category|             gmap_id|  latitude|          longitude|                name|   price|             state|Es_Restaurant|      ciudad|    estado|\n",
            "+--------------------+----------+--------------------+--------------------+----------+-------------------+--------------------+--------+------------------+-------------+------------+----------+\n",
            "|Rob's Lunch Box D...|       4.8|[Restaurant, Rest...|0x407636ffaaab494...|38.3551241|       -122.7086001|Rob's Lunch Box D...|SIN DATO|Permanently closed|         true|Rohnert Park|California|\n",
            "|The Hungry Hiker,...|       4.0|        [Restaurant]|0x4ccae17c7ed5a88...|44.1827946|        -73.9638427|    The Hungry Hiker|SIN DATO|          SIN DATO|         true| Lake Placid|  New York|\n",
            "|Yaadgar Restauran...|       4.1|[Indian restauran...|0x54d2ece3c8068be...|40.5818149|-122.39180329999999|  Yaadgar Restaurant|SIN DATO|Permanently closed|         true|     Redding|California|\n",
            "+--------------------+----------+--------------------+--------------------+----------+-------------------+--------------------+--------+------------------+-------------+------------+----------+\n",
            "only showing top 3 rows\n",
            "\n"
          ]
        }
      ]
    },
    {
      "cell_type": "code",
      "source": [
        "# Seleccionar las columnas necesarias\n",
        "df_category = df_data.select('gmap_id', 'category')\n",
        "\n",
        "# Explotar la columna 'category'\n",
        "df_category = df_category.withColumn('category', explode(col('category')))"
      ],
      "metadata": {
        "id": "phP17vYvlDMt"
      },
      "execution_count": 132,
      "outputs": []
    },
    {
      "cell_type": "code",
      "source": [
        "df_category = df_category.withColumnRenamed('gmap_id', 'business_id') \\\n",
        "                          .withColumnRenamed('category', 'category_name')\n"
      ],
      "metadata": {
        "id": "sT21Re17m1zp"
      },
      "execution_count": 139,
      "outputs": []
    },
    {
      "cell_type": "code",
      "source": [
        "df_category.show(3)"
      ],
      "metadata": {
        "colab": {
          "base_uri": "https://localhost:8080/"
        },
        "id": "jG8GnejHnrp_",
        "outputId": "7e020fde-f771-4fff-8dbe-40c2e262fa55"
      },
      "execution_count": 141,
      "outputs": [
        {
          "output_type": "stream",
          "name": "stdout",
          "text": [
            "+--------------------+------------------+\n",
            "|         business_id|     category_name|\n",
            "+--------------------+------------------+\n",
            "|0x407636ffaaab494...|        Restaurant|\n",
            "|0x407636ffaaab494...|Restaurant or cafe|\n",
            "|0x4ccae17c7ed5a88...|        Restaurant|\n",
            "+--------------------+------------------+\n",
            "only showing top 3 rows\n",
            "\n"
          ]
        }
      ]
    }
  ]
}