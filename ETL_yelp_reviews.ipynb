{
 "cells": [
  {
   "cell_type": "code",
   "execution_count": 1,
   "metadata": {},
   "outputs": [],
   "source": [
    "import pandas as pd\n",
    "import os"
   ]
  },
  {
   "cell_type": "markdown",
   "metadata": {},
   "source": [
    "Procedimiento para dividir el archivo de 5Gb en 20 partes para su carga incremental"
   ]
  },
  {
   "cell_type": "code",
   "execution_count": null,
   "metadata": {},
   "outputs": [],
   "source": [
    "def dividir_json_grande(archivo_entrada, num_partes):\n",
    "    # Contar el número total de líneas/objetos en el archivo JSON\n",
    "    with open(archivo_entrada, 'r', encoding='utf-8') as archivo:\n",
    "        total_lineas = sum(1 for _ in archivo)\n",
    "    \n",
    "    # Calcular el tamaño de cada parte\n",
    "    tamaño_parte = total_lineas // num_partes\n",
    "    if total_lineas % num_partes != 0:\n",
    "        tamaño_parte += 1\n",
    "\n",
    "    # Leer y dividir el archivo en partes\n",
    "    with open(archivo_entrada, 'r', encoding='utf-8') as archivo:\n",
    "        for i in range(num_partes):\n",
    "            archivo_salida = f'parte_{i + 1}.json'\n",
    "            with open(archivo_salida, 'w', encoding='utf-8') as salida:\n",
    "                salida.write('[')  # Comenzar un array JSON\n",
    "                for j in range(tamaño_parte):\n",
    "                    linea = archivo.readline()\n",
    "                    if not linea:\n",
    "                        break\n",
    "                    salida.write(linea.rstrip())\n",
    "                    if j < tamaño_parte - 1 and not archivo.tell() == total_lineas:\n",
    "                        salida.write(',')\n",
    "                salida.write(']')  # Terminar el array JSON\n",
    "            # Si el archivo original ha terminado, salir del bucle\n",
    "            if not linea:\n",
    "                break\n",
    "\n",
    "# Usar la función para dividir el archivo 'archivo.json' en 10 partes\n",
    "dividir_json_grande('D:/PROYECTO FINAL/Yelp/review.json', 20)"
   ]
  },
  {
   "cell_type": "code",
   "execution_count": 2,
   "metadata": {},
   "outputs": [
    {
     "data": {
      "text/html": [
       "<div>\n",
       "<style scoped>\n",
       "    .dataframe tbody tr th:only-of-type {\n",
       "        vertical-align: middle;\n",
       "    }\n",
       "\n",
       "    .dataframe tbody tr th {\n",
       "        vertical-align: top;\n",
       "    }\n",
       "\n",
       "    .dataframe thead th {\n",
       "        text-align: right;\n",
       "    }\n",
       "</style>\n",
       "<table border=\"1\" class=\"dataframe\">\n",
       "  <thead>\n",
       "    <tr style=\"text-align: right;\">\n",
       "      <th></th>\n",
       "      <th>review_id</th>\n",
       "      <th>user_id</th>\n",
       "      <th>business_id</th>\n",
       "      <th>stars</th>\n",
       "      <th>useful</th>\n",
       "      <th>funny</th>\n",
       "      <th>cool</th>\n",
       "      <th>text</th>\n",
       "      <th>date</th>\n",
       "    </tr>\n",
       "  </thead>\n",
       "  <tbody>\n",
       "    <tr>\n",
       "      <th>0</th>\n",
       "      <td>g2bgAoRUeKWkDQHmpWpjMA</td>\n",
       "      <td>HIZvBs4nmsafwdhuWWtrdQ</td>\n",
       "      <td>uYBHf5LLq3f7YbBjncQdCg</td>\n",
       "      <td>4</td>\n",
       "      <td>1</td>\n",
       "      <td>0</td>\n",
       "      <td>1</td>\n",
       "      <td>Friendly people, great selection of pastries, ...</td>\n",
       "      <td>2019-01-09 15:12:59</td>\n",
       "    </tr>\n",
       "    <tr>\n",
       "      <th>1</th>\n",
       "      <td>j4iWM8Ybfu6wFl54CdEIbw</td>\n",
       "      <td>z8UXeMDV-2cJOddzAcHDFg</td>\n",
       "      <td>DOoJrrsqGzZN2FqzvllKnQ</td>\n",
       "      <td>5</td>\n",
       "      <td>0</td>\n",
       "      <td>0</td>\n",
       "      <td>0</td>\n",
       "      <td>Fantastic food!  Wish they were in Fairfax, Va...</td>\n",
       "      <td>2019-05-12 00:25:30</td>\n",
       "    </tr>\n",
       "    <tr>\n",
       "      <th>2</th>\n",
       "      <td>MAkeW6gz1KwqasOqdqruCQ</td>\n",
       "      <td>OJHRfPll8s9bbhITS5RWIQ</td>\n",
       "      <td>vznHFDZ8-oZbJRU6Bslsdw</td>\n",
       "      <td>4</td>\n",
       "      <td>1</td>\n",
       "      <td>0</td>\n",
       "      <td>0</td>\n",
       "      <td>If you're a Dolphin Tale fan then this is a mu...</td>\n",
       "      <td>2018-07-16 14:55:27</td>\n",
       "    </tr>\n",
       "  </tbody>\n",
       "</table>\n",
       "</div>"
      ],
      "text/plain": [
       "                review_id                 user_id             business_id  \\\n",
       "0  g2bgAoRUeKWkDQHmpWpjMA  HIZvBs4nmsafwdhuWWtrdQ  uYBHf5LLq3f7YbBjncQdCg   \n",
       "1  j4iWM8Ybfu6wFl54CdEIbw  z8UXeMDV-2cJOddzAcHDFg  DOoJrrsqGzZN2FqzvllKnQ   \n",
       "2  MAkeW6gz1KwqasOqdqruCQ  OJHRfPll8s9bbhITS5RWIQ  vznHFDZ8-oZbJRU6Bslsdw   \n",
       "\n",
       "   stars  useful  funny  cool  \\\n",
       "0      4       1      0     1   \n",
       "1      5       0      0     0   \n",
       "2      4       1      0     0   \n",
       "\n",
       "                                                text                date  \n",
       "0  Friendly people, great selection of pastries, ... 2019-01-09 15:12:59  \n",
       "1  Fantastic food!  Wish they were in Fairfax, Va... 2019-05-12 00:25:30  \n",
       "2  If you're a Dolphin Tale fan then this is a mu... 2018-07-16 14:55:27  "
      ]
     },
     "execution_count": 2,
     "metadata": {},
     "output_type": "execute_result"
    }
   ],
   "source": [
    "df_reviews_yelp = pd.read_json('D:/PROYECTO FINAL/Yelp/review/parte_16.json')\n",
    "df_reviews_yelp.head(3)"
   ]
  },
  {
   "cell_type": "code",
   "execution_count": 3,
   "metadata": {},
   "outputs": [
    {
     "name": "stdout",
     "output_type": "stream",
     "text": [
      "<class 'pandas.core.frame.DataFrame'>\n",
      "RangeIndex: 349514 entries, 0 to 349513\n",
      "Data columns (total 9 columns):\n",
      " #   Column       Non-Null Count   Dtype         \n",
      "---  ------       --------------   -----         \n",
      " 0   review_id    349514 non-null  object        \n",
      " 1   user_id      349514 non-null  object        \n",
      " 2   business_id  349514 non-null  object        \n",
      " 3   stars        349514 non-null  int64         \n",
      " 4   useful       349514 non-null  int64         \n",
      " 5   funny        349514 non-null  int64         \n",
      " 6   cool         349514 non-null  int64         \n",
      " 7   text         349514 non-null  object        \n",
      " 8   date         349514 non-null  datetime64[ns]\n",
      "dtypes: datetime64[ns](1), int64(4), object(4)\n",
      "memory usage: 24.0+ MB\n"
     ]
    }
   ],
   "source": [
    "df_reviews_yelp.info()"
   ]
  },
  {
   "cell_type": "code",
   "execution_count": 4,
   "metadata": {},
   "outputs": [],
   "source": [
    "df_estados_USA= pd.read_csv(\"D:/PROYECTO FINAL/Google Maps/estados_usa.csv\",delimiter = ';', encoding = \"utf-8\")\n",
    "df_estados_USA= df_estados_USA.rename(columns={'nombre_largo': 'estado', 'nombre_corto':'state'}) # cambiar nombre de la columna\n",
    "df_estados_USA= df_estados_USA.drop(['codigos'], axis=1) \n",
    "df_estados_USA['estado']= df_estados_USA['estado'].convert_dtypes(convert_string=True)\n",
    "df_estados_USA['estado']= df_estados_USA['estado'].str.strip()  # quita los espacios vacios"
   ]
  },
  {
   "cell_type": "code",
   "execution_count": 5,
   "metadata": {},
   "outputs": [],
   "source": [
    "df_business = pd.read_pickle(\"D:/PROYECTO FINAL/Yelp/business.pkl\")\n",
    "# Se cargan los business para filtrar los reviews de la categoria restaurantes solamente\n",
    "df_business = df_business.loc[:, ~df_business.columns.duplicated()]\n",
    "df_business.drop_duplicates('business_id',inplace=True)\n",
    "df_business['categories'] = df_business['categories'].str.split(',')\n",
    "df_business= df_business.dropna(subset=['categories']) # Elimina datos nulos de la columna\n",
    "df_business['Es_Restaurant'] = df_business['categories'].apply(lambda x: 'Restaurants' in x)\n",
    "df_business= df_business[df_business['Es_Restaurant']]\n",
    "df_business= df_business.dropna(subset=['state']) # Elimina datos nulos de la columna\n",
    "df_business['state']= df_business['state'].str.strip()  # quita los espacios vacios"
   ]
  },
  {
   "cell_type": "code",
   "execution_count": 6,
   "metadata": {},
   "outputs": [],
   "source": [
    "df_business = df_business.merge(df_estados_USA, on='state', how='left')"
   ]
  },
  {
   "cell_type": "code",
   "execution_count": 7,
   "metadata": {},
   "outputs": [
    {
     "data": {
      "text/html": [
       "<div>\n",
       "<style scoped>\n",
       "    .dataframe tbody tr th:only-of-type {\n",
       "        vertical-align: middle;\n",
       "    }\n",
       "\n",
       "    .dataframe tbody tr th {\n",
       "        vertical-align: top;\n",
       "    }\n",
       "\n",
       "    .dataframe thead th {\n",
       "        text-align: right;\n",
       "    }\n",
       "</style>\n",
       "<table border=\"1\" class=\"dataframe\">\n",
       "  <thead>\n",
       "    <tr style=\"text-align: right;\">\n",
       "      <th></th>\n",
       "      <th>business_id</th>\n",
       "      <th>name</th>\n",
       "      <th>address</th>\n",
       "      <th>city</th>\n",
       "      <th>state</th>\n",
       "      <th>postal_code</th>\n",
       "      <th>latitude</th>\n",
       "      <th>longitude</th>\n",
       "      <th>stars</th>\n",
       "      <th>review_count</th>\n",
       "      <th>is_open</th>\n",
       "      <th>attributes</th>\n",
       "      <th>categories</th>\n",
       "      <th>hours</th>\n",
       "      <th>estado</th>\n",
       "    </tr>\n",
       "  </thead>\n",
       "  <tbody>\n",
       "    <tr>\n",
       "      <th>0</th>\n",
       "      <td>MTSW4McQd7CbVtyjqoe9mw</td>\n",
       "      <td>St Honore Pastries</td>\n",
       "      <td>935 Race St</td>\n",
       "      <td>Philadelphia</td>\n",
       "      <td>CA</td>\n",
       "      <td>19107</td>\n",
       "      <td>39.955505</td>\n",
       "      <td>-75.155564</td>\n",
       "      <td>4.0</td>\n",
       "      <td>80</td>\n",
       "      <td>1</td>\n",
       "      <td>{'RestaurantsDelivery': 'False', 'OutdoorSeati...</td>\n",
       "      <td>Restaurants</td>\n",
       "      <td>{'Monday': '7:0-20:0', 'Tuesday': '7:0-20:0', ...</td>\n",
       "      <td>California</td>\n",
       "    </tr>\n",
       "    <tr>\n",
       "      <th>1</th>\n",
       "      <td>CF33F8-E6oudUQ46HnavjQ</td>\n",
       "      <td>Sonic Drive-In</td>\n",
       "      <td>615 S Main St</td>\n",
       "      <td>Ashland City</td>\n",
       "      <td>AZ</td>\n",
       "      <td>37015</td>\n",
       "      <td>36.269593</td>\n",
       "      <td>-87.058943</td>\n",
       "      <td>2.0</td>\n",
       "      <td>6</td>\n",
       "      <td>1</td>\n",
       "      <td>{'BusinessParking': 'None', 'BusinessAcceptsCr...</td>\n",
       "      <td>Restaurants</td>\n",
       "      <td>{'Monday': '0:0-0:0', 'Tuesday': '6:0-22:0', '...</td>\n",
       "      <td>Arizona</td>\n",
       "    </tr>\n",
       "    <tr>\n",
       "      <th>2</th>\n",
       "      <td>k0hlBqXX-Bt0vf1op7Jr1w</td>\n",
       "      <td>Tsevi's Pub And Grill</td>\n",
       "      <td>8025 Mackenzie Rd</td>\n",
       "      <td>Affton</td>\n",
       "      <td>TN</td>\n",
       "      <td>63123</td>\n",
       "      <td>38.565165</td>\n",
       "      <td>-90.321087</td>\n",
       "      <td>3.0</td>\n",
       "      <td>19</td>\n",
       "      <td>0</td>\n",
       "      <td>{'Caters': 'True', 'Alcohol': 'u'full_bar'', '...</td>\n",
       "      <td>Restaurants</td>\n",
       "      <td>None</td>\n",
       "      <td>Tennessee</td>\n",
       "    </tr>\n",
       "  </tbody>\n",
       "</table>\n",
       "</div>"
      ],
      "text/plain": [
       "              business_id                   name            address  \\\n",
       "0  MTSW4McQd7CbVtyjqoe9mw     St Honore Pastries        935 Race St   \n",
       "1  CF33F8-E6oudUQ46HnavjQ         Sonic Drive-In      615 S Main St   \n",
       "2  k0hlBqXX-Bt0vf1op7Jr1w  Tsevi's Pub And Grill  8025 Mackenzie Rd   \n",
       "\n",
       "           city state postal_code   latitude  longitude stars review_count  \\\n",
       "0  Philadelphia    CA       19107  39.955505 -75.155564   4.0           80   \n",
       "1  Ashland City    AZ       37015  36.269593 -87.058943   2.0            6   \n",
       "2        Affton    TN       63123  38.565165 -90.321087   3.0           19   \n",
       "\n",
       "  is_open                                         attributes   categories  \\\n",
       "0       1  {'RestaurantsDelivery': 'False', 'OutdoorSeati...  Restaurants   \n",
       "1       1  {'BusinessParking': 'None', 'BusinessAcceptsCr...  Restaurants   \n",
       "2       0  {'Caters': 'True', 'Alcohol': 'u'full_bar'', '...  Restaurants   \n",
       "\n",
       "                                               hours      estado  \n",
       "0  {'Monday': '7:0-20:0', 'Tuesday': '7:0-20:0', ...  California  \n",
       "1  {'Monday': '0:0-0:0', 'Tuesday': '6:0-22:0', '...     Arizona  \n",
       "2                                               None   Tennessee  "
      ]
     },
     "execution_count": 7,
     "metadata": {},
     "output_type": "execute_result"
    }
   ],
   "source": [
    "df_business.head(3)"
   ]
  },
  {
   "cell_type": "code",
   "execution_count": 8,
   "metadata": {},
   "outputs": [],
   "source": [
    "lista_estados= ['Florida', 'Pennsylvania', 'Tennessee', 'California', 'Texas', 'New York']\n",
    "df_business= df_business[df_business['estado'].isin(lista_estados)]"
   ]
  },
  {
   "cell_type": "code",
   "execution_count": 29,
   "metadata": {},
   "outputs": [
    {
     "data": {
      "text/plain": [
       "(26893, 15)"
      ]
     },
     "execution_count": 29,
     "metadata": {},
     "output_type": "execute_result"
    }
   ],
   "source": [
    "df_business.shape"
   ]
  },
  {
   "cell_type": "code",
   "execution_count": 9,
   "metadata": {},
   "outputs": [],
   "source": [
    "df_business= df_business[['business_id', 'name']]"
   ]
  },
  {
   "cell_type": "code",
   "execution_count": 31,
   "metadata": {},
   "outputs": [
    {
     "name": "stdout",
     "output_type": "stream",
     "text": [
      "<class 'pandas.core.frame.DataFrame'>\n",
      "Index: 26893 entries, 0 to 52266\n",
      "Data columns (total 2 columns):\n",
      " #   Column       Non-Null Count  Dtype \n",
      "---  ------       --------------  ----- \n",
      " 0   business_id  26893 non-null  object\n",
      " 1   name         26893 non-null  object\n",
      "dtypes: object(2)\n",
      "memory usage: 630.3+ KB\n"
     ]
    }
   ],
   "source": [
    "df_business.info()"
   ]
  },
  {
   "cell_type": "code",
   "execution_count": 10,
   "metadata": {},
   "outputs": [],
   "source": [
    "df_reviews_yelp = df_reviews_yelp.merge(df_business, on='business_id', how='inner')"
   ]
  },
  {
   "cell_type": "code",
   "execution_count": 11,
   "metadata": {},
   "outputs": [],
   "source": [
    "df_reviews_yelp = df_reviews_yelp[(df_reviews_yelp['date'].dt.year >= 2010) & (df_reviews_yelp['date'].dt.year <= 2021)]"
   ]
  },
  {
   "cell_type": "code",
   "execution_count": 12,
   "metadata": {},
   "outputs": [
    {
     "data": {
      "text/html": [
       "<div>\n",
       "<style scoped>\n",
       "    .dataframe tbody tr th:only-of-type {\n",
       "        vertical-align: middle;\n",
       "    }\n",
       "\n",
       "    .dataframe tbody tr th {\n",
       "        vertical-align: top;\n",
       "    }\n",
       "\n",
       "    .dataframe thead th {\n",
       "        text-align: right;\n",
       "    }\n",
       "</style>\n",
       "<table border=\"1\" class=\"dataframe\">\n",
       "  <thead>\n",
       "    <tr style=\"text-align: right;\">\n",
       "      <th></th>\n",
       "      <th>review_id</th>\n",
       "      <th>user_id</th>\n",
       "      <th>business_id</th>\n",
       "      <th>stars</th>\n",
       "      <th>useful</th>\n",
       "      <th>funny</th>\n",
       "      <th>cool</th>\n",
       "      <th>text</th>\n",
       "      <th>date</th>\n",
       "      <th>name</th>\n",
       "    </tr>\n",
       "  </thead>\n",
       "  <tbody>\n",
       "    <tr>\n",
       "      <th>0</th>\n",
       "      <td>j4iWM8Ybfu6wFl54CdEIbw</td>\n",
       "      <td>z8UXeMDV-2cJOddzAcHDFg</td>\n",
       "      <td>DOoJrrsqGzZN2FqzvllKnQ</td>\n",
       "      <td>5</td>\n",
       "      <td>0</td>\n",
       "      <td>0</td>\n",
       "      <td>0</td>\n",
       "      <td>Fantastic food!  Wish they were in Fairfax, Va...</td>\n",
       "      <td>2019-05-12 00:25:30</td>\n",
       "      <td>Taco Mamacita</td>\n",
       "    </tr>\n",
       "    <tr>\n",
       "      <th>1</th>\n",
       "      <td>ax8iHpMuYf57Tja498oETQ</td>\n",
       "      <td>cs7C4VJ5ghS3CRrNBSgeMg</td>\n",
       "      <td>DOoJrrsqGzZN2FqzvllKnQ</td>\n",
       "      <td>4</td>\n",
       "      <td>0</td>\n",
       "      <td>0</td>\n",
       "      <td>0</td>\n",
       "      <td>I've eaten here 5 times or so now and it never...</td>\n",
       "      <td>2019-07-28 14:00:31</td>\n",
       "      <td>Taco Mamacita</td>\n",
       "    </tr>\n",
       "    <tr>\n",
       "      <th>2</th>\n",
       "      <td>YApRFp3-1OFLUcrCCIc8hg</td>\n",
       "      <td>T62QEApuG0AvdeZhVLtL2w</td>\n",
       "      <td>DOoJrrsqGzZN2FqzvllKnQ</td>\n",
       "      <td>5</td>\n",
       "      <td>0</td>\n",
       "      <td>0</td>\n",
       "      <td>0</td>\n",
       "      <td>Nom Nom Nom!\\n\\nI love this place . Great marg...</td>\n",
       "      <td>2015-06-20 17:29:14</td>\n",
       "      <td>Taco Mamacita</td>\n",
       "    </tr>\n",
       "  </tbody>\n",
       "</table>\n",
       "</div>"
      ],
      "text/plain": [
       "                review_id                 user_id             business_id  \\\n",
       "0  j4iWM8Ybfu6wFl54CdEIbw  z8UXeMDV-2cJOddzAcHDFg  DOoJrrsqGzZN2FqzvllKnQ   \n",
       "1  ax8iHpMuYf57Tja498oETQ  cs7C4VJ5ghS3CRrNBSgeMg  DOoJrrsqGzZN2FqzvllKnQ   \n",
       "2  YApRFp3-1OFLUcrCCIc8hg  T62QEApuG0AvdeZhVLtL2w  DOoJrrsqGzZN2FqzvllKnQ   \n",
       "\n",
       "   stars  useful  funny  cool  \\\n",
       "0      5       0      0     0   \n",
       "1      4       0      0     0   \n",
       "2      5       0      0     0   \n",
       "\n",
       "                                                text                date  \\\n",
       "0  Fantastic food!  Wish they were in Fairfax, Va... 2019-05-12 00:25:30   \n",
       "1  I've eaten here 5 times or so now and it never... 2019-07-28 14:00:31   \n",
       "2  Nom Nom Nom!\\n\\nI love this place . Great marg... 2015-06-20 17:29:14   \n",
       "\n",
       "            name  \n",
       "0  Taco Mamacita  \n",
       "1  Taco Mamacita  \n",
       "2  Taco Mamacita  "
      ]
     },
     "execution_count": 12,
     "metadata": {},
     "output_type": "execute_result"
    }
   ],
   "source": [
    "df_reviews_yelp.head(3)"
   ]
  },
  {
   "cell_type": "code",
   "execution_count": 13,
   "metadata": {},
   "outputs": [],
   "source": [
    "df_reviews_yelp= df_reviews_yelp.drop(['review_id','name'], axis=1)       #Elimina la columnas\n",
    "df_reviews_yelp['platform']= 2\n",
    "df_reviews_yelp= df_reviews_yelp[['business_id','user_id', 'date', 'stars','useful','funny','cool', 'text', 'platform']]"
   ]
  },
  {
   "cell_type": "code",
   "execution_count": 14,
   "metadata": {},
   "outputs": [
    {
     "name": "stdout",
     "output_type": "stream",
     "text": [
      "<class 'pandas.core.frame.DataFrame'>\n",
      "Index: 110303 entries, 0 to 112639\n",
      "Data columns (total 9 columns):\n",
      " #   Column       Non-Null Count   Dtype         \n",
      "---  ------       --------------   -----         \n",
      " 0   business_id  110303 non-null  object        \n",
      " 1   user_id      110303 non-null  object        \n",
      " 2   date         110303 non-null  datetime64[ns]\n",
      " 3   stars        110303 non-null  int64         \n",
      " 4   useful       110303 non-null  int64         \n",
      " 5   funny        110303 non-null  int64         \n",
      " 6   cool         110303 non-null  int64         \n",
      " 7   text         110303 non-null  object        \n",
      " 8   platform     110303 non-null  int64         \n",
      "dtypes: datetime64[ns](1), int64(5), object(3)\n",
      "memory usage: 8.4+ MB\n"
     ]
    }
   ],
   "source": [
    "df_reviews_yelp.info()"
   ]
  },
  {
   "cell_type": "code",
   "execution_count": 15,
   "metadata": {},
   "outputs": [
    {
     "data": {
      "text/html": [
       "<div>\n",
       "<style scoped>\n",
       "    .dataframe tbody tr th:only-of-type {\n",
       "        vertical-align: middle;\n",
       "    }\n",
       "\n",
       "    .dataframe tbody tr th {\n",
       "        vertical-align: top;\n",
       "    }\n",
       "\n",
       "    .dataframe thead th {\n",
       "        text-align: right;\n",
       "    }\n",
       "</style>\n",
       "<table border=\"1\" class=\"dataframe\">\n",
       "  <thead>\n",
       "    <tr style=\"text-align: right;\">\n",
       "      <th></th>\n",
       "      <th>business_id</th>\n",
       "      <th>user_id</th>\n",
       "      <th>date</th>\n",
       "      <th>stars</th>\n",
       "      <th>useful</th>\n",
       "      <th>funny</th>\n",
       "      <th>cool</th>\n",
       "      <th>text</th>\n",
       "      <th>platform</th>\n",
       "    </tr>\n",
       "  </thead>\n",
       "  <tbody>\n",
       "    <tr>\n",
       "      <th>0</th>\n",
       "      <td>DOoJrrsqGzZN2FqzvllKnQ</td>\n",
       "      <td>z8UXeMDV-2cJOddzAcHDFg</td>\n",
       "      <td>2019-05-12 00:25:30</td>\n",
       "      <td>5</td>\n",
       "      <td>0</td>\n",
       "      <td>0</td>\n",
       "      <td>0</td>\n",
       "      <td>Fantastic food!  Wish they were in Fairfax, Va...</td>\n",
       "      <td>2</td>\n",
       "    </tr>\n",
       "    <tr>\n",
       "      <th>1</th>\n",
       "      <td>DOoJrrsqGzZN2FqzvllKnQ</td>\n",
       "      <td>cs7C4VJ5ghS3CRrNBSgeMg</td>\n",
       "      <td>2019-07-28 14:00:31</td>\n",
       "      <td>4</td>\n",
       "      <td>0</td>\n",
       "      <td>0</td>\n",
       "      <td>0</td>\n",
       "      <td>I've eaten here 5 times or so now and it never...</td>\n",
       "      <td>2</td>\n",
       "    </tr>\n",
       "    <tr>\n",
       "      <th>2</th>\n",
       "      <td>DOoJrrsqGzZN2FqzvllKnQ</td>\n",
       "      <td>T62QEApuG0AvdeZhVLtL2w</td>\n",
       "      <td>2015-06-20 17:29:14</td>\n",
       "      <td>5</td>\n",
       "      <td>0</td>\n",
       "      <td>0</td>\n",
       "      <td>0</td>\n",
       "      <td>Nom Nom Nom!\\n\\nI love this place . Great marg...</td>\n",
       "      <td>2</td>\n",
       "    </tr>\n",
       "  </tbody>\n",
       "</table>\n",
       "</div>"
      ],
      "text/plain": [
       "              business_id                 user_id                date  stars  \\\n",
       "0  DOoJrrsqGzZN2FqzvllKnQ  z8UXeMDV-2cJOddzAcHDFg 2019-05-12 00:25:30      5   \n",
       "1  DOoJrrsqGzZN2FqzvllKnQ  cs7C4VJ5ghS3CRrNBSgeMg 2019-07-28 14:00:31      4   \n",
       "2  DOoJrrsqGzZN2FqzvllKnQ  T62QEApuG0AvdeZhVLtL2w 2015-06-20 17:29:14      5   \n",
       "\n",
       "   useful  funny  cool                                               text  \\\n",
       "0       0      0     0  Fantastic food!  Wish they were in Fairfax, Va...   \n",
       "1       0      0     0  I've eaten here 5 times or so now and it never...   \n",
       "2       0      0     0  Nom Nom Nom!\\n\\nI love this place . Great marg...   \n",
       "\n",
       "   platform  \n",
       "0         2  \n",
       "1         2  \n",
       "2         2  "
      ]
     },
     "execution_count": 15,
     "metadata": {},
     "output_type": "execute_result"
    }
   ],
   "source": [
    "df_reviews_yelp.head(3)"
   ]
  }
 ],
 "metadata": {
  "kernelspec": {
   "display_name": "Python 3",
   "language": "python",
   "name": "python3"
  },
  "language_info": {
   "codemirror_mode": {
    "name": "ipython",
    "version": 3
   },
   "file_extension": ".py",
   "mimetype": "text/x-python",
   "name": "python",
   "nbconvert_exporter": "python",
   "pygments_lexer": "ipython3",
   "version": "3.11.9"
  }
 },
 "nbformat": 4,
 "nbformat_minor": 2
}
