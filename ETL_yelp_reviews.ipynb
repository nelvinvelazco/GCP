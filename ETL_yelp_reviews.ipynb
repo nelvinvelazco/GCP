{
 "cells": [
  {
   "cell_type": "code",
   "execution_count": 1,
   "metadata": {},
   "outputs": [],
   "source": [
    "import pandas as pd\n",
    "import os"
   ]
  },
  {
   "cell_type": "markdown",
   "metadata": {},
   "source": [
    "Procedimiento para dividir el archivo de 5Gb en 20 partes para su carga incremental"
   ]
  },
  {
   "cell_type": "code",
   "execution_count": null,
   "metadata": {},
   "outputs": [],
   "source": [
    "def dividir_json_grande(archivo_entrada, num_partes):\n",
    "    # Contar el número total de líneas/objetos en el archivo JSON\n",
    "    with open(archivo_entrada, 'r', encoding='utf-8') as archivo:\n",
    "        total_lineas = sum(1 for _ in archivo)\n",
    "    \n",
    "    # Calcular el tamaño de cada parte\n",
    "    tamaño_parte = total_lineas // num_partes\n",
    "    if total_lineas % num_partes != 0:\n",
    "        tamaño_parte += 1\n",
    "\n",
    "    # Leer y dividir el archivo en partes\n",
    "    with open(archivo_entrada, 'r', encoding='utf-8') as archivo:\n",
    "        for i in range(num_partes):\n",
    "            archivo_salida = f'parte_{i + 1}.json'\n",
    "            with open(archivo_salida, 'w', encoding='utf-8') as salida:\n",
    "                salida.write('[')  # Comenzar un array JSON\n",
    "                for j in range(tamaño_parte):\n",
    "                    linea = archivo.readline()\n",
    "                    if not linea:\n",
    "                        break\n",
    "                    salida.write(linea.rstrip())\n",
    "                    if j < tamaño_parte - 1 and not archivo.tell() == total_lineas:\n",
    "                        salida.write(',')\n",
    "                salida.write(']')  # Terminar el array JSON\n",
    "            # Si el archivo original ha terminado, salir del bucle\n",
    "            if not linea:\n",
    "                break\n",
    "\n",
    "# Usar la función para dividir el archivo 'archivo.json' en 10 partes\n",
    "dividir_json_grande('D:/PROYECTO FINAL/Yelp/review.json', 20)"
   ]
  },
  {
   "cell_type": "code",
   "execution_count": 2,
   "metadata": {},
   "outputs": [
    {
     "data": {
      "text/html": [
       "<div>\n",
       "<style scoped>\n",
       "    .dataframe tbody tr th:only-of-type {\n",
       "        vertical-align: middle;\n",
       "    }\n",
       "\n",
       "    .dataframe tbody tr th {\n",
       "        vertical-align: top;\n",
       "    }\n",
       "\n",
       "    .dataframe thead th {\n",
       "        text-align: right;\n",
       "    }\n",
       "</style>\n",
       "<table border=\"1\" class=\"dataframe\">\n",
       "  <thead>\n",
       "    <tr style=\"text-align: right;\">\n",
       "      <th></th>\n",
       "      <th>review_id</th>\n",
       "      <th>user_id</th>\n",
       "      <th>business_id</th>\n",
       "      <th>stars</th>\n",
       "      <th>useful</th>\n",
       "      <th>funny</th>\n",
       "      <th>cool</th>\n",
       "      <th>text</th>\n",
       "      <th>date</th>\n",
       "    </tr>\n",
       "  </thead>\n",
       "  <tbody>\n",
       "    <tr>\n",
       "      <th>0</th>\n",
       "      <td>KU_O5udG6zpxOg-VcAEodg</td>\n",
       "      <td>mh_-eMZ6K5RLWhZyISBhwA</td>\n",
       "      <td>XQfwVwDr-v0ZS3_CbbE5Xw</td>\n",
       "      <td>3</td>\n",
       "      <td>0</td>\n",
       "      <td>0</td>\n",
       "      <td>0</td>\n",
       "      <td>If you decide to eat here, just be aware it is...</td>\n",
       "      <td>2018-07-07 22:09:11</td>\n",
       "    </tr>\n",
       "    <tr>\n",
       "      <th>1</th>\n",
       "      <td>BiTunyQ73aT9WBnpR9DZGw</td>\n",
       "      <td>OyoGAe7OKpv6SyGZT5g77Q</td>\n",
       "      <td>7ATYjTIgM3jUlt4UM3IypQ</td>\n",
       "      <td>5</td>\n",
       "      <td>1</td>\n",
       "      <td>0</td>\n",
       "      <td>1</td>\n",
       "      <td>I've taken a lot of spin classes over the year...</td>\n",
       "      <td>2012-01-03 15:28:18</td>\n",
       "    </tr>\n",
       "    <tr>\n",
       "      <th>2</th>\n",
       "      <td>saUsX_uimxRlCVr67Z4Jig</td>\n",
       "      <td>8g_iMtfSiwikVnbP2etR0A</td>\n",
       "      <td>YjUWPpI6HXG530lwP-fb2A</td>\n",
       "      <td>3</td>\n",
       "      <td>0</td>\n",
       "      <td>0</td>\n",
       "      <td>0</td>\n",
       "      <td>Family diner. Had the buffet. Eclectic assortm...</td>\n",
       "      <td>2014-02-05 20:30:30</td>\n",
       "    </tr>\n",
       "  </tbody>\n",
       "</table>\n",
       "</div>"
      ],
      "text/plain": [
       "                review_id                 user_id             business_id  \\\n",
       "0  KU_O5udG6zpxOg-VcAEodg  mh_-eMZ6K5RLWhZyISBhwA  XQfwVwDr-v0ZS3_CbbE5Xw   \n",
       "1  BiTunyQ73aT9WBnpR9DZGw  OyoGAe7OKpv6SyGZT5g77Q  7ATYjTIgM3jUlt4UM3IypQ   \n",
       "2  saUsX_uimxRlCVr67Z4Jig  8g_iMtfSiwikVnbP2etR0A  YjUWPpI6HXG530lwP-fb2A   \n",
       "\n",
       "   stars  useful  funny  cool  \\\n",
       "0      3       0      0     0   \n",
       "1      5       1      0     1   \n",
       "2      3       0      0     0   \n",
       "\n",
       "                                                text                date  \n",
       "0  If you decide to eat here, just be aware it is... 2018-07-07 22:09:11  \n",
       "1  I've taken a lot of spin classes over the year... 2012-01-03 15:28:18  \n",
       "2  Family diner. Had the buffet. Eclectic assortm... 2014-02-05 20:30:30  "
      ]
     },
     "execution_count": 2,
     "metadata": {},
     "output_type": "execute_result"
    }
   ],
   "source": [
    "#df_reviews_yelp = pd.read_json('D:/PROYECTO FINAL/Yelp/review/parte_16.json')\n",
    "df_reviews_yelp = pd.read_json('C:/Data/Yelp/review/parte_1.json')\n",
    "df_reviews_yelp.head(3)"
   ]
  },
  {
   "cell_type": "code",
   "execution_count": 3,
   "metadata": {},
   "outputs": [
    {
     "name": "stdout",
     "output_type": "stream",
     "text": [
      "<class 'pandas.core.frame.DataFrame'>\n",
      "RangeIndex: 466019 entries, 0 to 466018\n",
      "Data columns (total 9 columns):\n",
      " #   Column       Non-Null Count   Dtype         \n",
      "---  ------       --------------   -----         \n",
      " 0   review_id    466019 non-null  object        \n",
      " 1   user_id      466019 non-null  object        \n",
      " 2   business_id  466019 non-null  object        \n",
      " 3   stars        466019 non-null  int64         \n",
      " 4   useful       466019 non-null  int64         \n",
      " 5   funny        466019 non-null  int64         \n",
      " 6   cool         466019 non-null  int64         \n",
      " 7   text         466019 non-null  object        \n",
      " 8   date         466019 non-null  datetime64[ns]\n",
      "dtypes: datetime64[ns](1), int64(4), object(4)\n",
      "memory usage: 32.0+ MB\n"
     ]
    }
   ],
   "source": [
    "df_reviews_yelp.info()"
   ]
  },
  {
   "cell_type": "code",
   "execution_count": 4,
   "metadata": {},
   "outputs": [],
   "source": [
    "#df_estados_USA= pd.read_csv(\"D:/PROYECTO FINAL/Google Maps/estados_usa.csv\",delimiter = ';', encoding = \"utf-8\")\n",
    "df_estados_USA= pd.read_csv(\"C:/Data/GMaps/estados_usa.csv\",delimiter = ';', encoding = \"utf-8\")\n",
    "df_estados_USA= df_estados_USA.rename(columns={'nombre_largo': 'estado', 'nombre_corto':'state'}) # cambiar nombre de la columna\n",
    "df_estados_USA= df_estados_USA.drop(['codigos'], axis=1) \n",
    "df_estados_USA['estado']= df_estados_USA['estado'].convert_dtypes(convert_string=True)\n",
    "df_estados_USA['estado']= df_estados_USA['estado'].str.strip()  # quita los espacios vacios"
   ]
  },
  {
   "cell_type": "code",
   "execution_count": 5,
   "metadata": {},
   "outputs": [],
   "source": [
    "#df_business = pd.read_pickle(\"D:/PROYECTO FINAL/Yelp/business.pkl\")\n",
    "df_business = pd.read_pickle(\"C:/Data/Yelp/business.pkl\")\n",
    "# Se cargan los business para filtrar los reviews de la categoria restaurantes solamente\n",
    "df_business = df_business.loc[:, ~df_business.columns.duplicated()]\n",
    "df_business.drop_duplicates('business_id',inplace=True)\n",
    "df_business['categories'] = df_business['categories'].str.split(',')\n",
    "df_business= df_business.dropna(subset=['categories']) # Elimina datos nulos de la columna\n",
    "df_business['Es_Restaurant'] = df_business['categories'].apply(lambda x: 'Restaurants' in x)\n",
    "df_business= df_business[df_business['Es_Restaurant']]\n",
    "df_business= df_business.dropna(subset=['state']) # Elimina datos nulos de la columna\n",
    "df_business['state']= df_business['state'].str.strip()  # quita los espacios vacios"
   ]
  },
  {
   "cell_type": "code",
   "execution_count": 6,
   "metadata": {},
   "outputs": [],
   "source": [
    "df_business = df_business.merge(df_estados_USA, on='state', how='left')"
   ]
  },
  {
   "cell_type": "code",
   "execution_count": 9,
   "metadata": {},
   "outputs": [
    {
     "data": {
      "text/html": [
       "<div>\n",
       "<style scoped>\n",
       "    .dataframe tbody tr th:only-of-type {\n",
       "        vertical-align: middle;\n",
       "    }\n",
       "\n",
       "    .dataframe tbody tr th {\n",
       "        vertical-align: top;\n",
       "    }\n",
       "\n",
       "    .dataframe thead th {\n",
       "        text-align: right;\n",
       "    }\n",
       "</style>\n",
       "<table border=\"1\" class=\"dataframe\">\n",
       "  <thead>\n",
       "    <tr style=\"text-align: right;\">\n",
       "      <th></th>\n",
       "      <th>business_id</th>\n",
       "      <th>name</th>\n",
       "      <th>address</th>\n",
       "      <th>city</th>\n",
       "      <th>state</th>\n",
       "      <th>postal_code</th>\n",
       "      <th>latitude</th>\n",
       "      <th>longitude</th>\n",
       "      <th>stars</th>\n",
       "      <th>review_count</th>\n",
       "      <th>is_open</th>\n",
       "      <th>attributes</th>\n",
       "      <th>categories</th>\n",
       "      <th>hours</th>\n",
       "      <th>Es_Restaurant</th>\n",
       "      <th>estado</th>\n",
       "    </tr>\n",
       "  </thead>\n",
       "  <tbody>\n",
       "    <tr>\n",
       "      <th>0</th>\n",
       "      <td>MTSW4McQd7CbVtyjqoe9mw</td>\n",
       "      <td>St Honore Pastries</td>\n",
       "      <td>935 Race St</td>\n",
       "      <td>Philadelphia</td>\n",
       "      <td>CA</td>\n",
       "      <td>19107</td>\n",
       "      <td>39.955505</td>\n",
       "      <td>-75.155564</td>\n",
       "      <td>4.0</td>\n",
       "      <td>80</td>\n",
       "      <td>1</td>\n",
       "      <td>{'RestaurantsDelivery': 'False', 'OutdoorSeati...</td>\n",
       "      <td>[Restaurants,  Food,  Bubble Tea,  Coffee &amp; Te...</td>\n",
       "      <td>{'Monday': '7:0-20:0', 'Tuesday': '7:0-20:0', ...</td>\n",
       "      <td>True</td>\n",
       "      <td>California</td>\n",
       "    </tr>\n",
       "    <tr>\n",
       "      <th>1</th>\n",
       "      <td>9OG5YkX1g2GReZM0AskizA</td>\n",
       "      <td>Romano's Macaroni Grill</td>\n",
       "      <td>5505 S Virginia St</td>\n",
       "      <td>Reno</td>\n",
       "      <td>AB</td>\n",
       "      <td>89502</td>\n",
       "      <td>39.476117</td>\n",
       "      <td>-119.789339</td>\n",
       "      <td>2.5</td>\n",
       "      <td>339</td>\n",
       "      <td>1</td>\n",
       "      <td>{'RestaurantsGoodForGroups': 'True', 'Restaura...</td>\n",
       "      <td>[Restaurants,  Italian]</td>\n",
       "      <td>{'Monday': '11:0-22:0', 'Tuesday': '11:0-22:0'...</td>\n",
       "      <td>True</td>\n",
       "      <td>&lt;NA&gt;</td>\n",
       "    </tr>\n",
       "    <tr>\n",
       "      <th>2</th>\n",
       "      <td>tMkwHmWFUEXrC9ZduonpTg</td>\n",
       "      <td>The Green Pheasant</td>\n",
       "      <td>215 1st Ave S</td>\n",
       "      <td>Nashville</td>\n",
       "      <td>TN</td>\n",
       "      <td>37201</td>\n",
       "      <td>36.159886</td>\n",
       "      <td>-86.773197</td>\n",
       "      <td>4.0</td>\n",
       "      <td>161</td>\n",
       "      <td>0</td>\n",
       "      <td>{'RestaurantsGoodForGroups': 'True', 'HappyHou...</td>\n",
       "      <td>[Restaurants,  Japanese,  Seafood]</td>\n",
       "      <td>{'Wednesday': '16:0-22:0', 'Thursday': '16:0-2...</td>\n",
       "      <td>True</td>\n",
       "      <td>Tennessee</td>\n",
       "    </tr>\n",
       "  </tbody>\n",
       "</table>\n",
       "</div>"
      ],
      "text/plain": [
       "              business_id                     name             address  \\\n",
       "0  MTSW4McQd7CbVtyjqoe9mw       St Honore Pastries         935 Race St   \n",
       "1  9OG5YkX1g2GReZM0AskizA  Romano's Macaroni Grill  5505 S Virginia St   \n",
       "2  tMkwHmWFUEXrC9ZduonpTg       The Green Pheasant       215 1st Ave S   \n",
       "\n",
       "           city state postal_code   latitude   longitude stars review_count  \\\n",
       "0  Philadelphia    CA       19107  39.955505  -75.155564   4.0           80   \n",
       "1          Reno    AB       89502  39.476117 -119.789339   2.5          339   \n",
       "2     Nashville    TN       37201  36.159886  -86.773197   4.0          161   \n",
       "\n",
       "  is_open                                         attributes  \\\n",
       "0       1  {'RestaurantsDelivery': 'False', 'OutdoorSeati...   \n",
       "1       1  {'RestaurantsGoodForGroups': 'True', 'Restaura...   \n",
       "2       0  {'RestaurantsGoodForGroups': 'True', 'HappyHou...   \n",
       "\n",
       "                                          categories  \\\n",
       "0  [Restaurants,  Food,  Bubble Tea,  Coffee & Te...   \n",
       "1                            [Restaurants,  Italian]   \n",
       "2                 [Restaurants,  Japanese,  Seafood]   \n",
       "\n",
       "                                               hours  Es_Restaurant  \\\n",
       "0  {'Monday': '7:0-20:0', 'Tuesday': '7:0-20:0', ...           True   \n",
       "1  {'Monday': '11:0-22:0', 'Tuesday': '11:0-22:0'...           True   \n",
       "2  {'Wednesday': '16:0-22:0', 'Thursday': '16:0-2...           True   \n",
       "\n",
       "       estado  \n",
       "0  California  \n",
       "1        <NA>  \n",
       "2   Tennessee  "
      ]
     },
     "execution_count": 9,
     "metadata": {},
     "output_type": "execute_result"
    }
   ],
   "source": [
    "df_business.head(3)"
   ]
  },
  {
   "cell_type": "code",
   "execution_count": 10,
   "metadata": {},
   "outputs": [],
   "source": [
    "lista_estados= ['Florida', 'Pennsylvania', 'Tennessee', 'California', 'Texas', 'New York']\n",
    "df_business= df_business[df_business['estado'].isin(lista_estados)]"
   ]
  },
  {
   "cell_type": "code",
   "execution_count": 11,
   "metadata": {},
   "outputs": [
    {
     "data": {
      "text/plain": [
       "(7854, 16)"
      ]
     },
     "execution_count": 11,
     "metadata": {},
     "output_type": "execute_result"
    }
   ],
   "source": [
    "df_business.shape"
   ]
  },
  {
   "cell_type": "code",
   "execution_count": 13,
   "metadata": {},
   "outputs": [],
   "source": [
    "df_business= df_business[['business_id', 'name']]"
   ]
  },
  {
   "cell_type": "code",
   "execution_count": 14,
   "metadata": {},
   "outputs": [
    {
     "name": "stdout",
     "output_type": "stream",
     "text": [
      "<class 'pandas.core.frame.DataFrame'>\n",
      "Index: 7854 entries, 0 to 15289\n",
      "Data columns (total 2 columns):\n",
      " #   Column       Non-Null Count  Dtype \n",
      "---  ------       --------------  ----- \n",
      " 0   business_id  7854 non-null   object\n",
      " 1   name         7854 non-null   object\n",
      "dtypes: object(2)\n",
      "memory usage: 184.1+ KB\n"
     ]
    }
   ],
   "source": [
    "df_business.info()"
   ]
  },
  {
   "cell_type": "code",
   "execution_count": 15,
   "metadata": {},
   "outputs": [],
   "source": [
    "df_reviews_yelp = df_reviews_yelp.merge(df_business, on='business_id', how='inner')"
   ]
  },
  {
   "cell_type": "code",
   "execution_count": 16,
   "metadata": {},
   "outputs": [],
   "source": [
    "df_reviews_yelp = df_reviews_yelp[(df_reviews_yelp['date'].dt.year >= 2010) & (df_reviews_yelp['date'].dt.year <= 2021)]"
   ]
  },
  {
   "cell_type": "code",
   "execution_count": 17,
   "metadata": {},
   "outputs": [
    {
     "data": {
      "text/html": [
       "<div>\n",
       "<style scoped>\n",
       "    .dataframe tbody tr th:only-of-type {\n",
       "        vertical-align: middle;\n",
       "    }\n",
       "\n",
       "    .dataframe tbody tr th {\n",
       "        vertical-align: top;\n",
       "    }\n",
       "\n",
       "    .dataframe thead th {\n",
       "        text-align: right;\n",
       "    }\n",
       "</style>\n",
       "<table border=\"1\" class=\"dataframe\">\n",
       "  <thead>\n",
       "    <tr style=\"text-align: right;\">\n",
       "      <th></th>\n",
       "      <th>review_id</th>\n",
       "      <th>user_id</th>\n",
       "      <th>business_id</th>\n",
       "      <th>stars</th>\n",
       "      <th>useful</th>\n",
       "      <th>funny</th>\n",
       "      <th>cool</th>\n",
       "      <th>text</th>\n",
       "      <th>date</th>\n",
       "      <th>name</th>\n",
       "    </tr>\n",
       "  </thead>\n",
       "  <tbody>\n",
       "    <tr>\n",
       "      <th>0</th>\n",
       "      <td>KU_O5udG6zpxOg-VcAEodg</td>\n",
       "      <td>mh_-eMZ6K5RLWhZyISBhwA</td>\n",
       "      <td>XQfwVwDr-v0ZS3_CbbE5Xw</td>\n",
       "      <td>3</td>\n",
       "      <td>0</td>\n",
       "      <td>0</td>\n",
       "      <td>0</td>\n",
       "      <td>If you decide to eat here, just be aware it is...</td>\n",
       "      <td>2018-07-07 22:09:11</td>\n",
       "      <td>Turning Point of North Wales</td>\n",
       "    </tr>\n",
       "    <tr>\n",
       "      <th>1</th>\n",
       "      <td>UBp0zWyH60Hmw6Fsasei7w</td>\n",
       "      <td>4Uh27DgGzsp6PqrH913giQ</td>\n",
       "      <td>otQS34_MymijPTdNBoBdCw</td>\n",
       "      <td>4</td>\n",
       "      <td>0</td>\n",
       "      <td>2</td>\n",
       "      <td>0</td>\n",
       "      <td>The bun makes the Sonoran Dog. It's like a snu...</td>\n",
       "      <td>2011-10-27 17:12:05</td>\n",
       "      <td>BK Tacos</td>\n",
       "    </tr>\n",
       "    <tr>\n",
       "      <th>2</th>\n",
       "      <td>lUUhg8ltDsUZ9h0xnwY4Dg</td>\n",
       "      <td>RreNy--tOmXMl1en0wiBOg</td>\n",
       "      <td>cPepkJeRMtHapc_b2Oe_dw</td>\n",
       "      <td>4</td>\n",
       "      <td>1</td>\n",
       "      <td>0</td>\n",
       "      <td>1</td>\n",
       "      <td>I was really between 3 and 4 stars for this on...</td>\n",
       "      <td>2018-07-17 03:30:07</td>\n",
       "      <td>Naked Tchopstix Express</td>\n",
       "    </tr>\n",
       "  </tbody>\n",
       "</table>\n",
       "</div>"
      ],
      "text/plain": [
       "                review_id                 user_id             business_id  \\\n",
       "0  KU_O5udG6zpxOg-VcAEodg  mh_-eMZ6K5RLWhZyISBhwA  XQfwVwDr-v0ZS3_CbbE5Xw   \n",
       "1  UBp0zWyH60Hmw6Fsasei7w  4Uh27DgGzsp6PqrH913giQ  otQS34_MymijPTdNBoBdCw   \n",
       "2  lUUhg8ltDsUZ9h0xnwY4Dg  RreNy--tOmXMl1en0wiBOg  cPepkJeRMtHapc_b2Oe_dw   \n",
       "\n",
       "   stars  useful  funny  cool  \\\n",
       "0      3       0      0     0   \n",
       "1      4       0      2     0   \n",
       "2      4       1      0     1   \n",
       "\n",
       "                                                text                date  \\\n",
       "0  If you decide to eat here, just be aware it is... 2018-07-07 22:09:11   \n",
       "1  The bun makes the Sonoran Dog. It's like a snu... 2011-10-27 17:12:05   \n",
       "2  I was really between 3 and 4 stars for this on... 2018-07-17 03:30:07   \n",
       "\n",
       "                           name  \n",
       "0  Turning Point of North Wales  \n",
       "1                      BK Tacos  \n",
       "2       Naked Tchopstix Express  "
      ]
     },
     "execution_count": 17,
     "metadata": {},
     "output_type": "execute_result"
    }
   ],
   "source": [
    "df_reviews_yelp.head(3)"
   ]
  },
  {
   "cell_type": "code",
   "execution_count": 18,
   "metadata": {},
   "outputs": [],
   "source": [
    "df_reviews_yelp= df_reviews_yelp.drop(['review_id','name'], axis=1)       #Elimina la columnas\n",
    "df_reviews_yelp['platform']= 2\n",
    "df_reviews_yelp= df_reviews_yelp[['business_id','user_id', 'date', 'stars','useful','funny','cool', 'text', 'platform']]"
   ]
  },
  {
   "cell_type": "code",
   "execution_count": 19,
   "metadata": {},
   "outputs": [
    {
     "name": "stdout",
     "output_type": "stream",
     "text": [
      "<class 'pandas.core.frame.DataFrame'>\n",
      "Index: 36111 entries, 0 to 37150\n",
      "Data columns (total 9 columns):\n",
      " #   Column       Non-Null Count  Dtype         \n",
      "---  ------       --------------  -----         \n",
      " 0   business_id  36111 non-null  object        \n",
      " 1   user_id      36111 non-null  object        \n",
      " 2   date         36111 non-null  datetime64[ns]\n",
      " 3   stars        36111 non-null  int64         \n",
      " 4   useful       36111 non-null  int64         \n",
      " 5   funny        36111 non-null  int64         \n",
      " 6   cool         36111 non-null  int64         \n",
      " 7   text         36111 non-null  object        \n",
      " 8   platform     36111 non-null  int64         \n",
      "dtypes: datetime64[ns](1), int64(5), object(3)\n",
      "memory usage: 2.8+ MB\n"
     ]
    }
   ],
   "source": [
    "df_reviews_yelp.info()"
   ]
  },
  {
   "cell_type": "code",
   "execution_count": 15,
   "metadata": {},
   "outputs": [
    {
     "data": {
      "text/html": [
       "<div>\n",
       "<style scoped>\n",
       "    .dataframe tbody tr th:only-of-type {\n",
       "        vertical-align: middle;\n",
       "    }\n",
       "\n",
       "    .dataframe tbody tr th {\n",
       "        vertical-align: top;\n",
       "    }\n",
       "\n",
       "    .dataframe thead th {\n",
       "        text-align: right;\n",
       "    }\n",
       "</style>\n",
       "<table border=\"1\" class=\"dataframe\">\n",
       "  <thead>\n",
       "    <tr style=\"text-align: right;\">\n",
       "      <th></th>\n",
       "      <th>business_id</th>\n",
       "      <th>user_id</th>\n",
       "      <th>date</th>\n",
       "      <th>stars</th>\n",
       "      <th>useful</th>\n",
       "      <th>funny</th>\n",
       "      <th>cool</th>\n",
       "      <th>text</th>\n",
       "      <th>platform</th>\n",
       "    </tr>\n",
       "  </thead>\n",
       "  <tbody>\n",
       "    <tr>\n",
       "      <th>0</th>\n",
       "      <td>DOoJrrsqGzZN2FqzvllKnQ</td>\n",
       "      <td>z8UXeMDV-2cJOddzAcHDFg</td>\n",
       "      <td>2019-05-12 00:25:30</td>\n",
       "      <td>5</td>\n",
       "      <td>0</td>\n",
       "      <td>0</td>\n",
       "      <td>0</td>\n",
       "      <td>Fantastic food!  Wish they were in Fairfax, Va...</td>\n",
       "      <td>2</td>\n",
       "    </tr>\n",
       "    <tr>\n",
       "      <th>1</th>\n",
       "      <td>DOoJrrsqGzZN2FqzvllKnQ</td>\n",
       "      <td>cs7C4VJ5ghS3CRrNBSgeMg</td>\n",
       "      <td>2019-07-28 14:00:31</td>\n",
       "      <td>4</td>\n",
       "      <td>0</td>\n",
       "      <td>0</td>\n",
       "      <td>0</td>\n",
       "      <td>I've eaten here 5 times or so now and it never...</td>\n",
       "      <td>2</td>\n",
       "    </tr>\n",
       "    <tr>\n",
       "      <th>2</th>\n",
       "      <td>DOoJrrsqGzZN2FqzvllKnQ</td>\n",
       "      <td>T62QEApuG0AvdeZhVLtL2w</td>\n",
       "      <td>2015-06-20 17:29:14</td>\n",
       "      <td>5</td>\n",
       "      <td>0</td>\n",
       "      <td>0</td>\n",
       "      <td>0</td>\n",
       "      <td>Nom Nom Nom!\\n\\nI love this place . Great marg...</td>\n",
       "      <td>2</td>\n",
       "    </tr>\n",
       "  </tbody>\n",
       "</table>\n",
       "</div>"
      ],
      "text/plain": [
       "              business_id                 user_id                date  stars  \\\n",
       "0  DOoJrrsqGzZN2FqzvllKnQ  z8UXeMDV-2cJOddzAcHDFg 2019-05-12 00:25:30      5   \n",
       "1  DOoJrrsqGzZN2FqzvllKnQ  cs7C4VJ5ghS3CRrNBSgeMg 2019-07-28 14:00:31      4   \n",
       "2  DOoJrrsqGzZN2FqzvllKnQ  T62QEApuG0AvdeZhVLtL2w 2015-06-20 17:29:14      5   \n",
       "\n",
       "   useful  funny  cool                                               text  \\\n",
       "0       0      0     0  Fantastic food!  Wish they were in Fairfax, Va...   \n",
       "1       0      0     0  I've eaten here 5 times or so now and it never...   \n",
       "2       0      0     0  Nom Nom Nom!\\n\\nI love this place . Great marg...   \n",
       "\n",
       "   platform  \n",
       "0         2  \n",
       "1         2  \n",
       "2         2  "
      ]
     },
     "execution_count": 15,
     "metadata": {},
     "output_type": "execute_result"
    }
   ],
   "source": [
    "df_reviews_yelp.head(3)"
   ]
  }
 ],
 "metadata": {
  "kernelspec": {
   "display_name": "Python 3",
   "language": "python",
   "name": "python3"
  },
  "language_info": {
   "codemirror_mode": {
    "name": "ipython",
    "version": 3
   },
   "file_extension": ".py",
   "mimetype": "text/x-python",
   "name": "python",
   "nbconvert_exporter": "python",
   "pygments_lexer": "ipython3",
   "version": "3.11.1"
  }
 },
 "nbformat": 4,
 "nbformat_minor": 2
}
